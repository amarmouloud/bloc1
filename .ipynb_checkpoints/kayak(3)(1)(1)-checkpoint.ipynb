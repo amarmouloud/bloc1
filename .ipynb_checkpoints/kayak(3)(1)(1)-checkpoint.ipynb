{
 "cells": [
  {
   "cell_type": "code",
   "execution_count": 1,
   "id": "a1195eab-5a13-4d2b-a0af-d4105cc45e1d",
   "metadata": {},
   "outputs": [
    {
     "ename": "ModuleNotFoundError",
     "evalue": "No module named 'plotly'",
     "output_type": "error",
     "traceback": [
      "\u001b[1;31m---------------------------------------------------------------------------\u001b[0m",
      "\u001b[1;31mModuleNotFoundError\u001b[0m                       Traceback (most recent call last)",
      "\u001b[1;32m~\\AppData\\Local\\Temp/ipykernel_16380/4055132128.py\u001b[0m in \u001b[0;36m<module>\u001b[1;34m\u001b[0m\n\u001b[0;32m      2\u001b[0m \u001b[1;32mimport\u001b[0m \u001b[0mpandas\u001b[0m \u001b[1;32mas\u001b[0m \u001b[0mpd\u001b[0m\u001b[1;33m\u001b[0m\u001b[1;33m\u001b[0m\u001b[0m\n\u001b[0;32m      3\u001b[0m \u001b[1;32mimport\u001b[0m \u001b[0mnumpy\u001b[0m \u001b[1;32mas\u001b[0m \u001b[0mnp\u001b[0m\u001b[1;33m\u001b[0m\u001b[1;33m\u001b[0m\u001b[0m\n\u001b[1;32m----> 4\u001b[1;33m \u001b[1;32mimport\u001b[0m \u001b[0mplotly\u001b[0m\u001b[1;33m.\u001b[0m\u001b[0mexpress\u001b[0m \u001b[1;32mas\u001b[0m \u001b[0mpx\u001b[0m\u001b[1;33m\u001b[0m\u001b[1;33m\u001b[0m\u001b[0m\n\u001b[0m",
      "\u001b[1;31mModuleNotFoundError\u001b[0m: No module named 'plotly'"
     ]
    }
   ],
   "source": [
    "import requests\n",
    "import pandas as pd\n",
    "import numpy as np\n",
    "import plotly.express as px\n",
    "\n"
   ]
  },
  {
   "cell_type": "code",
   "execution_count": 9,
   "id": "b2a5cc33-6daa-45b6-b356-828e9bec1a5c",
   "metadata": {},
   "outputs": [],
   "source": [
    "cities = [\n",
    "\"St Malo\",\n",
    "\"Bayeux\",\n",
    "\"Le Havre\",\n",
    "\"Rouen\",\n",
    "\"Paris\",\n",
    "\"Amiens\",\n",
    "\"Lille\",\n",
    "\"Strasbourg\",\n",
    "\"Chateau du Haut Koenigsbourg\",\n",
    "\"Colmar\",\n",
    "\"Eguisheim\",\n",
    "\"Besancon\",\n",
    "\"Dijon\",\n",
    "\"Annecy\",\n",
    "\"Grenoble\",\n",
    "\"Lyon\",\n",
    "\"Gorges du Verdon\",\n",
    "\"Bormes les Mimosas\",\n",
    "\"Cassis\",\n",
    "\"Marseille\",\n",
    "\"Aix en Provence\",\n",
    "\"Avignon\",\n",
    "\"Uzes\",\n",
    "\"Nimes\",\n",
    "\"Aigues Mortes\",\n",
    "\"Saintes Maries de la mer\",\n",
    "\"Collioure\",\n",
    "\"Carcassonne\",\n",
    "\"Ariege\",\n",
    "\"Toulouse\",\n",
    "\"Montauban\",\n",
    "\"Biarritz\",\n",
    "\"Bayonne\",\n",
    "\"La Rochelle\"]\n",
    "\n",
    "list_latitude = []\n",
    "list_longitude = []\n",
    "list_temp_moyenne = []\n",
    "list_pop_moyenne = []\n",
    "\n",
    "for city in cities :\n",
    "    # Recupere latitute et longitude de chaque ville\n",
    "    r = requests.get(f\"https://nominatim.openstreetmap.org/search?q={city}&format=json\")\n",
    "    premier_resultat=r.json()[0]\n",
    "    lat= premier_resultat.get(\"lat\")\n",
    "    long =premier_resultat.get(\"lon\")\n",
    "    list_latitude.append(lat)\n",
    "    list_longitude.append(long)\n",
    "    \n",
    "    # Récupere temperature moyenne et moyenne de probabilité de précipitation sur les sept ptochains jours \n",
    "    r = requests.get(f\"https://api.openweathermap.org/data/2.5/onecall?lat={lat}&lon={long}&exclude=current,minutely,hourly&appid=6ebc4f03187866817713df5aae660c2f\")\n",
    "    resultat = r.json()\n",
    "    temps = []\n",
    "    pops=[]\n",
    "    for day in range(0,7):\n",
    "        temps.append(resultat.get('daily')[day].get('temp').get('day'))\n",
    "        pops.append(resultat.get('daily')[day].get('pop'))\n",
    "    \n",
    "    list_temp_moyenne.append(np.mean(temps))\n",
    "    list_pop_moyenne.append(np.mean(pops))\n"
   ]
  },
  {
   "cell_type": "code",
   "execution_count": 10,
   "id": "6849f533-54df-4771-b553-6457a2b04d8c",
   "metadata": {},
   "outputs": [],
   "source": [
    "data = pd.DataFrame()\n",
    "data['city'] = cities\n",
    "data['lat'] = list_latitude\n",
    "data['long'] = list_longitude\n",
    "data['temp'] = list_temp_moyenne\n",
    "data['pop'] = list_pop_moyenne"
   ]
  },
  {
   "cell_type": "code",
   "execution_count": 11,
   "id": "8302e5f1-22ca-4ca1-b700-ecbee7b7f6ad",
   "metadata": {},
   "outputs": [],
   "source": [
    "data = data.sort_values(by=['temp','pop'], ascending=[False, True])\n",
    "data.to_csv('results/cities.csv', index=True, index_label='id')"
   ]
  },
  {
   "cell_type": "code",
   "execution_count": 17,
   "id": "8546364e-07fa-488e-870c-ac9f423a1da1",
   "metadata": {},
   "outputs": [
    {
     "data": {
      "text/html": [
       "<div>\n",
       "<style scoped>\n",
       "    .dataframe tbody tr th:only-of-type {\n",
       "        vertical-align: middle;\n",
       "    }\n",
       "\n",
       "    .dataframe tbody tr th {\n",
       "        vertical-align: top;\n",
       "    }\n",
       "\n",
       "    .dataframe thead th {\n",
       "        text-align: right;\n",
       "    }\n",
       "</style>\n",
       "<table border=\"1\" class=\"dataframe\">\n",
       "  <thead>\n",
       "    <tr style=\"text-align: right;\">\n",
       "      <th></th>\n",
       "      <th>id</th>\n",
       "      <th>city</th>\n",
       "      <th>lat</th>\n",
       "      <th>long</th>\n",
       "      <th>temp</th>\n",
       "      <th>pop</th>\n",
       "    </tr>\n",
       "  </thead>\n",
       "  <tbody>\n",
       "    <tr>\n",
       "      <th>0</th>\n",
       "      <td>17</td>\n",
       "      <td>Bormes les Mimosas</td>\n",
       "      <td>43.150697</td>\n",
       "      <td>6.341928</td>\n",
       "      <td>284.075714</td>\n",
       "      <td>0.502857</td>\n",
       "    </tr>\n",
       "    <tr>\n",
       "      <th>1</th>\n",
       "      <td>26</td>\n",
       "      <td>Collioure</td>\n",
       "      <td>42.525050</td>\n",
       "      <td>3.083155</td>\n",
       "      <td>284.072857</td>\n",
       "      <td>0.382857</td>\n",
       "    </tr>\n",
       "    <tr>\n",
       "      <th>2</th>\n",
       "      <td>18</td>\n",
       "      <td>Cassis</td>\n",
       "      <td>43.214036</td>\n",
       "      <td>5.539632</td>\n",
       "      <td>283.944286</td>\n",
       "      <td>0.422857</td>\n",
       "    </tr>\n",
       "    <tr>\n",
       "      <th>3</th>\n",
       "      <td>19</td>\n",
       "      <td>Marseille</td>\n",
       "      <td>43.296174</td>\n",
       "      <td>5.369953</td>\n",
       "      <td>283.502857</td>\n",
       "      <td>0.391429</td>\n",
       "    </tr>\n",
       "    <tr>\n",
       "      <th>4</th>\n",
       "      <td>32</td>\n",
       "      <td>Bayonne</td>\n",
       "      <td>43.494514</td>\n",
       "      <td>-1.473666</td>\n",
       "      <td>283.011429</td>\n",
       "      <td>0.575714</td>\n",
       "    </tr>\n",
       "  </tbody>\n",
       "</table>\n",
       "</div>"
      ],
      "text/plain": [
       "   id                city        lat      long        temp       pop\n",
       "0  17  Bormes les Mimosas  43.150697  6.341928  284.075714  0.502857\n",
       "1  26           Collioure  42.525050  3.083155  284.072857  0.382857\n",
       "2  18              Cassis  43.214036  5.539632  283.944286  0.422857\n",
       "3  19           Marseille  43.296174  5.369953  283.502857  0.391429\n",
       "4  32             Bayonne  43.494514 -1.473666  283.011429  0.575714"
      ]
     },
     "execution_count": 17,
     "metadata": {},
     "output_type": "execute_result"
    }
   ],
   "source": [
    "top5 = pd.read_csv('results/cities.csv', nrows=5)\n",
    "top5"
   ]
  },
  {
   "cell_type": "code",
   "execution_count": 3,
   "id": "a3847a69-79d5-40a8-8153-236c955cf35c",
   "metadata": {},
   "outputs": [],
   "source": [
    "import os\n",
    "import logging\n",
    "import scrapy\n",
    "from scrapy.crawler import CrawlerProcess"
   ]
  },
  {
   "cell_type": "code",
   "execution_count": 4,
   "id": "6d053f69-9d4c-4c9e-a9c3-edf961086b93",
   "metadata": {},
   "outputs": [],
   "source": [
    "urls = [(row['id'], f'https://www.booking.com/searchresults.fr.html?ss={row[\"city\"]}&order=score') for index, row in top5.iterrows()]"
   ]
  },
  {
   "cell_type": "code",
   "execution_count": 11,
   "id": "1534343f-8d34-4754-a8d9-9e1601317b20",
   "metadata": {},
   "outputs": [
    {
     "data": {
      "text/plain": [
       "[(17,\n",
       "  'https://www.booking.com/searchresults.fr.html?ss=Bormes les Mimosas&order=score'),\n",
       " (26,\n",
       "  'https://www.booking.com/searchresults.fr.html?ss=Collioure&order=score'),\n",
       " (18, 'https://www.booking.com/searchresults.fr.html?ss=Cassis&order=score'),\n",
       " (19,\n",
       "  'https://www.booking.com/searchresults.fr.html?ss=Marseille&order=score'),\n",
       " (32, 'https://www.booking.com/searchresults.fr.html?ss=Bayonne&order=score')]"
      ]
     },
     "execution_count": 11,
     "metadata": {},
     "output_type": "execute_result"
    }
   ],
   "source": [
    "urls"
   ]
  },
  {
   "cell_type": "code",
   "execution_count": 5,
   "id": "5327fd30-e8fc-40f0-8977-9787b761b611",
   "metadata": {},
   "outputs": [],
   "source": [
    "class HotelsSpider(scrapy.Spider):\n",
    "    # Name of your spider\n",
    "    name = \"hotelsspider\"\n",
    "    \n",
    "\n",
    "    \n",
    "    def start_requests(self):\n",
    "        for id, url in urls:\n",
    "            yield scrapy.Request(url, meta={'id' : id})\n",
    "\n",
    "    def parse(self, response):\n",
    "        for result in response.css('a[data-testid=\"title-link\"]')[:20]:\n",
    "            yield scrapy.Request(result.attrib['href'], callback=self.parse_hotels, meta={'id' : response.meta.get('id')})\n",
    "            \n",
    "              \n",
    "    def parse_hotels(self, response):  \n",
    "        yield {\n",
    "                'name': response.css('h2.pp-header__title::text').get(),\n",
    "                'localisation': response.css('a#hotel_header').attrib['data-atlas-latlng'],\n",
    "                'score' : response.css('div.b5cd09854e::text').get(),\n",
    "                'description' : ''.join(response.css('div#property_description_content>p::text').getall()),\n",
    "                'city_id' : response.meta.get('id')\n",
    "            }"
   ]
  },
  {
   "cell_type": "code",
   "execution_count": 6,
   "id": "981d5edc-3752-4802-906b-de2b5260e9ef",
   "metadata": {},
   "outputs": [
    {
     "name": "stderr",
     "output_type": "stream",
     "text": [
      "2022-12-05 14:41:17 [scrapy.utils.log] INFO: Scrapy 2.7.1 started (bot: scrapybot)\n",
      "2022-12-05 14:41:17 [scrapy.utils.log] INFO: Versions: lxml 4.9.1.0, libxml2 2.9.14, cssselect 1.2.0, parsel 1.7.0, w3lib 2.1.0, Twisted 22.10.0, Python 3.9.7 | packaged by conda-forge | (default, Sep 29 2021, 19:20:46) - [GCC 9.4.0], pyOpenSSL 22.0.0 (OpenSSL 1.1.1l  24 Aug 2021), cryptography 36.0.1, Platform Linux-5.10.133+-x86_64-with-glibc2.31\n",
      "2022-12-05 14:41:17 [scrapy.crawler] INFO: Overridden settings:\n",
      "{'AUTOTHROTTLE_ENABLED': True,\n",
      " 'LOG_LEVEL': 20,\n",
      " 'USER_AGENT': 'Mozilla/5.0 (Windows NT 10.0; Win64; x64) AppleWebKit/537.36 '\n",
      "               '(KHTML, like Gecko) Chrome/93.0.4577.82 Safari/537.36'}\n",
      "2022-12-05 14:41:17 [py.warnings] WARNING: /opt/conda/lib/python3.9/site-packages/scrapy/utils/request.py:231: ScrapyDeprecationWarning: '2.6' is a deprecated value for the 'REQUEST_FINGERPRINTER_IMPLEMENTATION' setting.\n",
      "\n",
      "It is also the default value. In other words, it is normal to get this warning if you have not defined a value for the 'REQUEST_FINGERPRINTER_IMPLEMENTATION' setting. This is so for backward compatibility reasons, but it will change in a future version of Scrapy.\n",
      "\n",
      "See the documentation of the 'REQUEST_FINGERPRINTER_IMPLEMENTATION' setting for information on how to handle this deprecation.\n",
      "  return cls(crawler)\n",
      "\n",
      "2022-12-05 14:41:17 [scrapy.extensions.telnet] INFO: Telnet Password: dd4ae6a32d9e5ac1\n",
      "2022-12-05 14:41:17 [scrapy.middleware] INFO: Enabled extensions:\n",
      "['scrapy.extensions.corestats.CoreStats',\n",
      " 'scrapy.extensions.telnet.TelnetConsole',\n",
      " 'scrapy.extensions.memusage.MemoryUsage',\n",
      " 'scrapy.extensions.feedexport.FeedExporter',\n",
      " 'scrapy.extensions.logstats.LogStats',\n",
      " 'scrapy.extensions.throttle.AutoThrottle']\n",
      "2022-12-05 14:41:17 [scrapy.middleware] INFO: Enabled downloader middlewares:\n",
      "['scrapy.downloadermiddlewares.httpauth.HttpAuthMiddleware',\n",
      " 'scrapy.downloadermiddlewares.downloadtimeout.DownloadTimeoutMiddleware',\n",
      " 'scrapy.downloadermiddlewares.defaultheaders.DefaultHeadersMiddleware',\n",
      " 'scrapy.downloadermiddlewares.useragent.UserAgentMiddleware',\n",
      " 'scrapy.downloadermiddlewares.retry.RetryMiddleware',\n",
      " 'scrapy.downloadermiddlewares.redirect.MetaRefreshMiddleware',\n",
      " 'scrapy.downloadermiddlewares.httpcompression.HttpCompressionMiddleware',\n",
      " 'scrapy.downloadermiddlewares.redirect.RedirectMiddleware',\n",
      " 'scrapy.downloadermiddlewares.cookies.CookiesMiddleware',\n",
      " 'scrapy.downloadermiddlewares.httpproxy.HttpProxyMiddleware',\n",
      " 'scrapy.downloadermiddlewares.stats.DownloaderStats']\n",
      "2022-12-05 14:41:17 [scrapy.middleware] INFO: Enabled spider middlewares:\n",
      "['scrapy.spidermiddlewares.httperror.HttpErrorMiddleware',\n",
      " 'scrapy.spidermiddlewares.offsite.OffsiteMiddleware',\n",
      " 'scrapy.spidermiddlewares.referer.RefererMiddleware',\n",
      " 'scrapy.spidermiddlewares.urllength.UrlLengthMiddleware',\n",
      " 'scrapy.spidermiddlewares.depth.DepthMiddleware']\n",
      "2022-12-05 14:41:17 [scrapy.middleware] INFO: Enabled item pipelines:\n",
      "[]\n",
      "2022-12-05 14:41:17 [scrapy.core.engine] INFO: Spider opened\n",
      "2022-12-05 14:41:17 [scrapy.extensions.logstats] INFO: Crawled 0 pages (at 0 pages/min), scraped 0 items (at 0 items/min)\n",
      "2022-12-05 14:41:17 [scrapy.extensions.telnet] INFO: Telnet console listening on 127.0.0.1:6023\n"
     ]
    },
    {
     "name": "stdout",
     "output_type": "stream",
     "text": [
      "17\n",
      "17\n",
      "17\n",
      "17\n",
      "17\n",
      "17\n",
      "17\n",
      "17\n",
      "17\n",
      "17\n",
      "17\n",
      "17\n",
      "17\n",
      "26\n",
      "18\n",
      "19\n",
      "32\n",
      "32\n",
      "32\n",
      "32\n",
      "32\n",
      "32\n",
      "32\n",
      "32\n",
      "32\n",
      "32\n",
      "32\n",
      "32\n",
      "32\n",
      "32\n",
      "32\n",
      "32\n",
      "32\n",
      "32\n",
      "32\n",
      "32\n",
      "19\n",
      "19\n",
      "19\n",
      "19\n",
      "19\n",
      "19\n",
      "19\n",
      "19\n",
      "19\n",
      "19\n",
      "19\n",
      "19\n",
      "19\n",
      "19\n",
      "19\n",
      "19\n"
     ]
    },
    {
     "name": "stderr",
     "output_type": "stream",
     "text": [
      "2022-12-05 14:42:17 [scrapy.extensions.logstats] INFO: Crawled 57 pages (at 57 pages/min), scraped 52 items (at 52 items/min)\n"
     ]
    },
    {
     "name": "stdout",
     "output_type": "stream",
     "text": [
      "19\n",
      "19\n",
      "18\n",
      "19\n",
      "18\n",
      "18\n",
      "18\n",
      "18\n",
      "18\n",
      "18\n",
      "18\n",
      "18\n",
      "18\n",
      "18\n",
      "18\n",
      "18\n",
      "18\n",
      "18\n",
      "18\n",
      "18\n",
      "18\n",
      "18\n",
      "26\n",
      "26\n",
      "26\n",
      "26\n",
      "26\n",
      "26\n",
      "26\n",
      "26\n",
      "26\n",
      "26\n",
      "26\n",
      "26\n",
      "26\n",
      "26\n",
      "26\n",
      "26\n",
      "26\n",
      "26\n",
      "17\n",
      "26\n",
      "17\n",
      "17\n",
      "17\n",
      "17\n",
      "17\n"
     ]
    },
    {
     "name": "stderr",
     "output_type": "stream",
     "text": [
      "2022-12-05 14:43:05 [scrapy.core.engine] INFO: Closing spider (finished)\n",
      "2022-12-05 14:43:05 [scrapy.extensions.feedexport] INFO: Stored json feed (100 items) in: results/hotels_top5.json\n",
      "2022-12-05 14:43:05 [scrapy.statscollectors] INFO: Dumping Scrapy stats:\n",
      "{'downloader/request_bytes': 133833,\n",
      " 'downloader/request_count': 105,\n",
      " 'downloader/request_method_count/GET': 105,\n",
      " 'downloader/response_bytes': 24447456,\n",
      " 'downloader/response_count': 105,\n",
      " 'downloader/response_status_count/200': 105,\n",
      " 'elapsed_time_seconds': 107.500959,\n",
      " 'feedexport/success_count/FileFeedStorage': 1,\n",
      " 'finish_reason': 'finished',\n",
      " 'finish_time': datetime.datetime(2022, 12, 5, 14, 43, 5, 448203),\n",
      " 'httpcompression/response_bytes': 134488779,\n",
      " 'httpcompression/response_count': 105,\n",
      " 'item_scraped_count': 100,\n",
      " 'log_count/INFO': 12,\n",
      " 'log_count/WARNING': 1,\n",
      " 'memusage/max': 293560320,\n",
      " 'memusage/startup': 152395776,\n",
      " 'request_depth_max': 1,\n",
      " 'response_received_count': 105,\n",
      " 'scheduler/dequeued': 105,\n",
      " 'scheduler/dequeued/memory': 105,\n",
      " 'scheduler/enqueued': 105,\n",
      " 'scheduler/enqueued/memory': 105,\n",
      " 'start_time': datetime.datetime(2022, 12, 5, 14, 41, 17, 947244)}\n",
      "2022-12-05 14:43:05 [scrapy.core.engine] INFO: Spider closed (finished)\n"
     ]
    },
    {
     "name": "stdout",
     "output_type": "stream",
     "text": [
      "17\n"
     ]
    }
   ],
   "source": [
    "# Name of the file where the results will be saved\n",
    "filename = \"hotels_top5.json\"\n",
    "\n",
    "# If file already exists, delete it before crawling (because Scrapy will concatenate the last and new results otherwise)\n",
    "if filename in os.listdir('results/'):\n",
    "        os.remove('results/' + filename)\n",
    "\n",
    "# Declare a new CrawlerProcess with some settings\n",
    "process = CrawlerProcess(settings = {\n",
    "    'USER_AGENT': 'Mozilla/5.0 (Windows NT 10.0; Win64; x64) AppleWebKit/537.36 (KHTML, like Gecko) Chrome/93.0.4577.82 Safari/537.36',\n",
    "    'LOG_LEVEL': logging.INFO,\n",
    "    \"AUTOTHROTTLE_ENABLED\": True,\n",
    "    \"FEEDS\": {\n",
    "        'results/' + filename : {\"format\": \"json\"},\n",
    "    }\n",
    "})\n",
    "\n",
    "# Start the crawling using the spider you defined above\n",
    "process.crawl(HotelsSpider)\n",
    "process.start()"
   ]
  },
  {
   "cell_type": "code",
   "execution_count": null,
   "id": "40e0224b-6ef8-4e1c-83b2-0cc8d3a9ebf0",
   "metadata": {},
   "outputs": [],
   "source": []
  },
  {
   "cell_type": "code",
   "execution_count": null,
   "id": "6f2d8310-d08e-4581-9e38-e8bfa80b8dff",
   "metadata": {},
   "outputs": [],
   "source": [
    "Sauvegarder les données dans un bucker S3"
   ]
  },
  {
   "cell_type": "code",
   "execution_count": null,
   "id": "46718244-411d-4e1b-89a9-d76041b75152",
   "metadata": {},
   "outputs": [],
   "source": [
    "import boto3"
   ]
  },
  {
   "cell_type": "code",
   "execution_count": null,
   "id": "7a81f1b2-b2c2-4f07-905e-cb4ddf3529d4",
   "metadata": {},
   "outputs": [],
   "source": [
    "#session = boto3.Session(aws_access_key_id=\"KEY\", \n",
    "                        #aws_secret_access_key=\"Tq+kkxaQmGeJi6RrV6ArwJqS7p4SDjqFZV32tpUa\")"
   ]
  },
  {
   "cell_type": "code",
   "execution_count": null,
   "id": "d220d990-a023-4d95-8f57-508ea9d4d875",
   "metadata": {},
   "outputs": [],
   "source": [
    "s3_client = boto3.client(\"s3\")"
   ]
  },
  {
   "cell_type": "code",
   "execution_count": null,
   "id": "a4f73167-6f2c-47cd-8377-8de124227501",
   "metadata": {},
   "outputs": [],
   "source": [
    "bucket=s3.create_bucket(Bucket=\"bucketaicha5\",CreateBucketConfiguration={'LocationConstraint': 'eu-west-3'})"
   ]
  },
  {
   "cell_type": "code",
   "execution_count": 7,
   "id": "b30756dd-1e71-4e28-b20f-f63d6ae7b676",
   "metadata": {},
   "outputs": [],
   "source": [
    "hotels = pd.read_json('results/hotels_top5.json')"
   ]
  },
  {
   "cell_type": "code",
   "execution_count": null,
   "id": "51d0e111-3a13-4dee-962c-a80b63e973e5",
   "metadata": {},
   "outputs": [],
   "source": [
    "s3_client.put_object(Key=\"hotel.json\", Bucket='bucketaicha5', Body=hotels)"
   ]
  },
  {
   "cell_type": "code",
   "execution_count": null,
   "id": "f90d7e2c-2eb7-471e-a3a7-dfc50d2f391d",
   "metadata": {},
   "outputs": [],
   "source": []
  },
  {
   "cell_type": "markdown",
   "id": "82a06f5a-657b-4cd1-ad12-d41636f00112",
   "metadata": {},
   "source": [
    "Création d'une carte pour le top 5"
   ]
  },
  {
   "cell_type": "code",
   "execution_count": null,
   "id": "9dbcaf0d-a404-46ef-9e6b-14f0a62fabae",
   "metadata": {},
   "outputs": [],
   "source": []
  },
  {
   "cell_type": "code",
   "execution_count": 15,
   "id": "66301415-1f7f-4b48-8128-759bcd71b3d4",
   "metadata": {},
   "outputs": [
    {
     "data": {
      "application/vnd.plotly.v1+json": {
       "config": {
        "plotlyServerURL": "https://plot.ly"
       },
       "data": [
        {
         "hovertemplate": "lat=%{lat}<br>long=%{lon}<extra></extra>",
         "lat": [
          43.1506968,
          42.52505,
          43.2140359,
          43.2961743,
          43.4945144
         ],
         "legendgroup": "",
         "lon": [
          6.3419285,
          3.0831554,
          5.5396318,
          5.3699525,
          -1.4736657
         ],
         "marker": {
          "color": "#636efa",
          "size": 10
         },
         "mode": "markers",
         "name": "",
         "showlegend": false,
         "subplot": "mapbox",
         "type": "scattermapbox"
        }
       ],
       "layout": {
        "autosize": true,
        "legend": {
         "tracegroupgap": 0
        },
        "mapbox": {
         "bearing": 0,
         "center": {
          "lat": 19.3941196288701,
          "lon": 89.58196454345921
         },
         "domain": {
          "x": [
           0,
           1
          ],
          "y": [
           0,
           1
          ]
         },
         "pitch": 0,
         "style": "carto-positron",
         "zoom": 1.3109576653207364
        },
        "margin": {
         "t": 60
        },
        "template": {
         "data": {
          "bar": [
           {
            "error_x": {
             "color": "#2a3f5f"
            },
            "error_y": {
             "color": "#2a3f5f"
            },
            "marker": {
             "line": {
              "color": "#E5ECF6",
              "width": 0.5
             },
             "pattern": {
              "fillmode": "overlay",
              "size": 10,
              "solidity": 0.2
             }
            },
            "type": "bar"
           }
          ],
          "barpolar": [
           {
            "marker": {
             "line": {
              "color": "#E5ECF6",
              "width": 0.5
             },
             "pattern": {
              "fillmode": "overlay",
              "size": 10,
              "solidity": 0.2
             }
            },
            "type": "barpolar"
           }
          ],
          "carpet": [
           {
            "aaxis": {
             "endlinecolor": "#2a3f5f",
             "gridcolor": "white",
             "linecolor": "white",
             "minorgridcolor": "white",
             "startlinecolor": "#2a3f5f"
            },
            "baxis": {
             "endlinecolor": "#2a3f5f",
             "gridcolor": "white",
             "linecolor": "white",
             "minorgridcolor": "white",
             "startlinecolor": "#2a3f5f"
            },
            "type": "carpet"
           }
          ],
          "choropleth": [
           {
            "colorbar": {
             "outlinewidth": 0,
             "ticks": ""
            },
            "type": "choropleth"
           }
          ],
          "contour": [
           {
            "colorbar": {
             "outlinewidth": 0,
             "ticks": ""
            },
            "colorscale": [
             [
              0,
              "#0d0887"
             ],
             [
              0.1111111111111111,
              "#46039f"
             ],
             [
              0.2222222222222222,
              "#7201a8"
             ],
             [
              0.3333333333333333,
              "#9c179e"
             ],
             [
              0.4444444444444444,
              "#bd3786"
             ],
             [
              0.5555555555555556,
              "#d8576b"
             ],
             [
              0.6666666666666666,
              "#ed7953"
             ],
             [
              0.7777777777777778,
              "#fb9f3a"
             ],
             [
              0.8888888888888888,
              "#fdca26"
             ],
             [
              1,
              "#f0f921"
             ]
            ],
            "type": "contour"
           }
          ],
          "contourcarpet": [
           {
            "colorbar": {
             "outlinewidth": 0,
             "ticks": ""
            },
            "type": "contourcarpet"
           }
          ],
          "heatmap": [
           {
            "colorbar": {
             "outlinewidth": 0,
             "ticks": ""
            },
            "colorscale": [
             [
              0,
              "#0d0887"
             ],
             [
              0.1111111111111111,
              "#46039f"
             ],
             [
              0.2222222222222222,
              "#7201a8"
             ],
             [
              0.3333333333333333,
              "#9c179e"
             ],
             [
              0.4444444444444444,
              "#bd3786"
             ],
             [
              0.5555555555555556,
              "#d8576b"
             ],
             [
              0.6666666666666666,
              "#ed7953"
             ],
             [
              0.7777777777777778,
              "#fb9f3a"
             ],
             [
              0.8888888888888888,
              "#fdca26"
             ],
             [
              1,
              "#f0f921"
             ]
            ],
            "type": "heatmap"
           }
          ],
          "heatmapgl": [
           {
            "colorbar": {
             "outlinewidth": 0,
             "ticks": ""
            },
            "colorscale": [
             [
              0,
              "#0d0887"
             ],
             [
              0.1111111111111111,
              "#46039f"
             ],
             [
              0.2222222222222222,
              "#7201a8"
             ],
             [
              0.3333333333333333,
              "#9c179e"
             ],
             [
              0.4444444444444444,
              "#bd3786"
             ],
             [
              0.5555555555555556,
              "#d8576b"
             ],
             [
              0.6666666666666666,
              "#ed7953"
             ],
             [
              0.7777777777777778,
              "#fb9f3a"
             ],
             [
              0.8888888888888888,
              "#fdca26"
             ],
             [
              1,
              "#f0f921"
             ]
            ],
            "type": "heatmapgl"
           }
          ],
          "histogram": [
           {
            "marker": {
             "pattern": {
              "fillmode": "overlay",
              "size": 10,
              "solidity": 0.2
             }
            },
            "type": "histogram"
           }
          ],
          "histogram2d": [
           {
            "colorbar": {
             "outlinewidth": 0,
             "ticks": ""
            },
            "colorscale": [
             [
              0,
              "#0d0887"
             ],
             [
              0.1111111111111111,
              "#46039f"
             ],
             [
              0.2222222222222222,
              "#7201a8"
             ],
             [
              0.3333333333333333,
              "#9c179e"
             ],
             [
              0.4444444444444444,
              "#bd3786"
             ],
             [
              0.5555555555555556,
              "#d8576b"
             ],
             [
              0.6666666666666666,
              "#ed7953"
             ],
             [
              0.7777777777777778,
              "#fb9f3a"
             ],
             [
              0.8888888888888888,
              "#fdca26"
             ],
             [
              1,
              "#f0f921"
             ]
            ],
            "type": "histogram2d"
           }
          ],
          "histogram2dcontour": [
           {
            "colorbar": {
             "outlinewidth": 0,
             "ticks": ""
            },
            "colorscale": [
             [
              0,
              "#0d0887"
             ],
             [
              0.1111111111111111,
              "#46039f"
             ],
             [
              0.2222222222222222,
              "#7201a8"
             ],
             [
              0.3333333333333333,
              "#9c179e"
             ],
             [
              0.4444444444444444,
              "#bd3786"
             ],
             [
              0.5555555555555556,
              "#d8576b"
             ],
             [
              0.6666666666666666,
              "#ed7953"
             ],
             [
              0.7777777777777778,
              "#fb9f3a"
             ],
             [
              0.8888888888888888,
              "#fdca26"
             ],
             [
              1,
              "#f0f921"
             ]
            ],
            "type": "histogram2dcontour"
           }
          ],
          "mesh3d": [
           {
            "colorbar": {
             "outlinewidth": 0,
             "ticks": ""
            },
            "type": "mesh3d"
           }
          ],
          "parcoords": [
           {
            "line": {
             "colorbar": {
              "outlinewidth": 0,
              "ticks": ""
             }
            },
            "type": "parcoords"
           }
          ],
          "pie": [
           {
            "automargin": true,
            "type": "pie"
           }
          ],
          "scatter": [
           {
            "marker": {
             "colorbar": {
              "outlinewidth": 0,
              "ticks": ""
             }
            },
            "type": "scatter"
           }
          ],
          "scatter3d": [
           {
            "line": {
             "colorbar": {
              "outlinewidth": 0,
              "ticks": ""
             }
            },
            "marker": {
             "colorbar": {
              "outlinewidth": 0,
              "ticks": ""
             }
            },
            "type": "scatter3d"
           }
          ],
          "scattercarpet": [
           {
            "marker": {
             "colorbar": {
              "outlinewidth": 0,
              "ticks": ""
             }
            },
            "type": "scattercarpet"
           }
          ],
          "scattergeo": [
           {
            "marker": {
             "colorbar": {
              "outlinewidth": 0,
              "ticks": ""
             }
            },
            "type": "scattergeo"
           }
          ],
          "scattergl": [
           {
            "marker": {
             "colorbar": {
              "outlinewidth": 0,
              "ticks": ""
             }
            },
            "type": "scattergl"
           }
          ],
          "scattermapbox": [
           {
            "marker": {
             "colorbar": {
              "outlinewidth": 0,
              "ticks": ""
             }
            },
            "type": "scattermapbox"
           }
          ],
          "scatterpolar": [
           {
            "marker": {
             "colorbar": {
              "outlinewidth": 0,
              "ticks": ""
             }
            },
            "type": "scatterpolar"
           }
          ],
          "scatterpolargl": [
           {
            "marker": {
             "colorbar": {
              "outlinewidth": 0,
              "ticks": ""
             }
            },
            "type": "scatterpolargl"
           }
          ],
          "scatterternary": [
           {
            "marker": {
             "colorbar": {
              "outlinewidth": 0,
              "ticks": ""
             }
            },
            "type": "scatterternary"
           }
          ],
          "surface": [
           {
            "colorbar": {
             "outlinewidth": 0,
             "ticks": ""
            },
            "colorscale": [
             [
              0,
              "#0d0887"
             ],
             [
              0.1111111111111111,
              "#46039f"
             ],
             [
              0.2222222222222222,
              "#7201a8"
             ],
             [
              0.3333333333333333,
              "#9c179e"
             ],
             [
              0.4444444444444444,
              "#bd3786"
             ],
             [
              0.5555555555555556,
              "#d8576b"
             ],
             [
              0.6666666666666666,
              "#ed7953"
             ],
             [
              0.7777777777777778,
              "#fb9f3a"
             ],
             [
              0.8888888888888888,
              "#fdca26"
             ],
             [
              1,
              "#f0f921"
             ]
            ],
            "type": "surface"
           }
          ],
          "table": [
           {
            "cells": {
             "fill": {
              "color": "#EBF0F8"
             },
             "line": {
              "color": "white"
             }
            },
            "header": {
             "fill": {
              "color": "#C8D4E3"
             },
             "line": {
              "color": "white"
             }
            },
            "type": "table"
           }
          ]
         },
         "layout": {
          "annotationdefaults": {
           "arrowcolor": "#2a3f5f",
           "arrowhead": 0,
           "arrowwidth": 1
          },
          "autotypenumbers": "strict",
          "coloraxis": {
           "colorbar": {
            "outlinewidth": 0,
            "ticks": ""
           }
          },
          "colorscale": {
           "diverging": [
            [
             0,
             "#8e0152"
            ],
            [
             0.1,
             "#c51b7d"
            ],
            [
             0.2,
             "#de77ae"
            ],
            [
             0.3,
             "#f1b6da"
            ],
            [
             0.4,
             "#fde0ef"
            ],
            [
             0.5,
             "#f7f7f7"
            ],
            [
             0.6,
             "#e6f5d0"
            ],
            [
             0.7,
             "#b8e186"
            ],
            [
             0.8,
             "#7fbc41"
            ],
            [
             0.9,
             "#4d9221"
            ],
            [
             1,
             "#276419"
            ]
           ],
           "sequential": [
            [
             0,
             "#0d0887"
            ],
            [
             0.1111111111111111,
             "#46039f"
            ],
            [
             0.2222222222222222,
             "#7201a8"
            ],
            [
             0.3333333333333333,
             "#9c179e"
            ],
            [
             0.4444444444444444,
             "#bd3786"
            ],
            [
             0.5555555555555556,
             "#d8576b"
            ],
            [
             0.6666666666666666,
             "#ed7953"
            ],
            [
             0.7777777777777778,
             "#fb9f3a"
            ],
            [
             0.8888888888888888,
             "#fdca26"
            ],
            [
             1,
             "#f0f921"
            ]
           ],
           "sequentialminus": [
            [
             0,
             "#0d0887"
            ],
            [
             0.1111111111111111,
             "#46039f"
            ],
            [
             0.2222222222222222,
             "#7201a8"
            ],
            [
             0.3333333333333333,
             "#9c179e"
            ],
            [
             0.4444444444444444,
             "#bd3786"
            ],
            [
             0.5555555555555556,
             "#d8576b"
            ],
            [
             0.6666666666666666,
             "#ed7953"
            ],
            [
             0.7777777777777778,
             "#fb9f3a"
            ],
            [
             0.8888888888888888,
             "#fdca26"
            ],
            [
             1,
             "#f0f921"
            ]
           ]
          },
          "colorway": [
           "#636efa",
           "#EF553B",
           "#00cc96",
           "#ab63fa",
           "#FFA15A",
           "#19d3f3",
           "#FF6692",
           "#B6E880",
           "#FF97FF",
           "#FECB52"
          ],
          "font": {
           "color": "#2a3f5f"
          },
          "geo": {
           "bgcolor": "white",
           "lakecolor": "white",
           "landcolor": "#E5ECF6",
           "showlakes": true,
           "showland": true,
           "subunitcolor": "white"
          },
          "hoverlabel": {
           "align": "left"
          },
          "hovermode": "closest",
          "mapbox": {
           "style": "light"
          },
          "paper_bgcolor": "white",
          "plot_bgcolor": "#E5ECF6",
          "polar": {
           "angularaxis": {
            "gridcolor": "white",
            "linecolor": "white",
            "ticks": ""
           },
           "bgcolor": "#E5ECF6",
           "radialaxis": {
            "gridcolor": "white",
            "linecolor": "white",
            "ticks": ""
           }
          },
          "scene": {
           "xaxis": {
            "backgroundcolor": "#E5ECF6",
            "gridcolor": "white",
            "gridwidth": 2,
            "linecolor": "white",
            "showbackground": true,
            "ticks": "",
            "zerolinecolor": "white"
           },
           "yaxis": {
            "backgroundcolor": "#E5ECF6",
            "gridcolor": "white",
            "gridwidth": 2,
            "linecolor": "white",
            "showbackground": true,
            "ticks": "",
            "zerolinecolor": "white"
           },
           "zaxis": {
            "backgroundcolor": "#E5ECF6",
            "gridcolor": "white",
            "gridwidth": 2,
            "linecolor": "white",
            "showbackground": true,
            "ticks": "",
            "zerolinecolor": "white"
           }
          },
          "shapedefaults": {
           "line": {
            "color": "#2a3f5f"
           }
          },
          "ternary": {
           "aaxis": {
            "gridcolor": "white",
            "linecolor": "white",
            "ticks": ""
           },
           "baxis": {
            "gridcolor": "white",
            "linecolor": "white",
            "ticks": ""
           },
           "bgcolor": "#E5ECF6",
           "caxis": {
            "gridcolor": "white",
            "linecolor": "white",
            "ticks": ""
           }
          },
          "title": {
           "x": 0.05
          },
          "xaxis": {
           "automargin": true,
           "gridcolor": "white",
           "linecolor": "white",
           "ticks": "",
           "title": {
            "standoff": 15
           },
           "zerolinecolor": "white",
           "zerolinewidth": 2
          },
          "yaxis": {
           "automargin": true,
           "gridcolor": "white",
           "linecolor": "white",
           "ticks": "",
           "title": {
            "standoff": 15
           },
           "zerolinecolor": "white",
           "zerolinewidth": 2
          }
         }
        }
       }
      },
      "image/png": "[encoded data removed]",
      "text/html": [
       "<div>                            <div id=\"3f9cfe55-1b57-47f4-988a-be4263906bd2\" class=\"plotly-graph-div\" style=\"height:525px; width:100%;\"></div>            <script type=\"text/javascript\">                require([\"plotly\"], function(Plotly) {                    window.PLOTLYENV=window.PLOTLYENV || {};                                    if (document.getElementById(\"3f9cfe55-1b57-47f4-988a-be4263906bd2\")) {                    Plotly.newPlot(                        \"3f9cfe55-1b57-47f4-988a-be4263906bd2\",                        [{\"hovertemplate\":\"lat=%{lat}<br>long=%{lon}<extra></extra>\",\"lat\":[43.1506968,42.52505,43.2140359,43.2961743,43.4945144],\"legendgroup\":\"\",\"lon\":[6.3419285,3.0831554,5.5396318,5.3699525,-1.4736657],\"marker\":{\"color\":\"#636efa\",\"size\":10},\"mode\":\"markers\",\"name\":\"\",\"showlegend\":false,\"subplot\":\"mapbox\",\"type\":\"scattermapbox\"}],                        {\"template\":{\"data\":{\"bar\":[{\"error_x\":{\"color\":\"#2a3f5f\"},\"error_y\":{\"color\":\"#2a3f5f\"},\"marker\":{\"line\":{\"color\":\"#E5ECF6\",\"width\":0.5},\"pattern\":{\"fillmode\":\"overlay\",\"size\":10,\"solidity\":0.2}},\"type\":\"bar\"}],\"barpolar\":[{\"marker\":{\"line\":{\"color\":\"#E5ECF6\",\"width\":0.5},\"pattern\":{\"fillmode\":\"overlay\",\"size\":10,\"solidity\":0.2}},\"type\":\"barpolar\"}],\"carpet\":[{\"aaxis\":{\"endlinecolor\":\"#2a3f5f\",\"gridcolor\":\"white\",\"linecolor\":\"white\",\"minorgridcolor\":\"white\",\"startlinecolor\":\"#2a3f5f\"},\"baxis\":{\"endlinecolor\":\"#2a3f5f\",\"gridcolor\":\"white\",\"linecolor\":\"white\",\"minorgridcolor\":\"white\",\"startlinecolor\":\"#2a3f5f\"},\"type\":\"carpet\"}],\"choropleth\":[{\"colorbar\":{\"outlinewidth\":0,\"ticks\":\"\"},\"type\":\"choropleth\"}],\"contour\":[{\"colorbar\":{\"outlinewidth\":0,\"ticks\":\"\"},\"colorscale\":[[0.0,\"#0d0887\"],[0.1111111111111111,\"#46039f\"],[0.2222222222222222,\"#7201a8\"],[0.3333333333333333,\"#9c179e\"],[0.4444444444444444,\"#bd3786\"],[0.5555555555555556,\"#d8576b\"],[0.6666666666666666,\"#ed7953\"],[0.7777777777777778,\"#fb9f3a\"],[0.8888888888888888,\"#fdca26\"],[1.0,\"#f0f921\"]],\"type\":\"contour\"}],\"contourcarpet\":[{\"colorbar\":{\"outlinewidth\":0,\"ticks\":\"\"},\"type\":\"contourcarpet\"}],\"heatmap\":[{\"colorbar\":{\"outlinewidth\":0,\"ticks\":\"\"},\"colorscale\":[[0.0,\"#0d0887\"],[0.1111111111111111,\"#46039f\"],[0.2222222222222222,\"#7201a8\"],[0.3333333333333333,\"#9c179e\"],[0.4444444444444444,\"#bd3786\"],[0.5555555555555556,\"#d8576b\"],[0.6666666666666666,\"#ed7953\"],[0.7777777777777778,\"#fb9f3a\"],[0.8888888888888888,\"#fdca26\"],[1.0,\"#f0f921\"]],\"type\":\"heatmap\"}],\"heatmapgl\":[{\"colorbar\":{\"outlinewidth\":0,\"ticks\":\"\"},\"colorscale\":[[0.0,\"#0d0887\"],[0.1111111111111111,\"#46039f\"],[0.2222222222222222,\"#7201a8\"],[0.3333333333333333,\"#9c179e\"],[0.4444444444444444,\"#bd3786\"],[0.5555555555555556,\"#d8576b\"],[0.6666666666666666,\"#ed7953\"],[0.7777777777777778,\"#fb9f3a\"],[0.8888888888888888,\"#fdca26\"],[1.0,\"#f0f921\"]],\"type\":\"heatmapgl\"}],\"histogram\":[{\"marker\":{\"pattern\":{\"fillmode\":\"overlay\",\"size\":10,\"solidity\":0.2}},\"type\":\"histogram\"}],\"histogram2d\":[{\"colorbar\":{\"outlinewidth\":0,\"ticks\":\"\"},\"colorscale\":[[0.0,\"#0d0887\"],[0.1111111111111111,\"#46039f\"],[0.2222222222222222,\"#7201a8\"],[0.3333333333333333,\"#9c179e\"],[0.4444444444444444,\"#bd3786\"],[0.5555555555555556,\"#d8576b\"],[0.6666666666666666,\"#ed7953\"],[0.7777777777777778,\"#fb9f3a\"],[0.8888888888888888,\"#fdca26\"],[1.0,\"#f0f921\"]],\"type\":\"histogram2d\"}],\"histogram2dcontour\":[{\"colorbar\":{\"outlinewidth\":0,\"ticks\":\"\"},\"colorscale\":[[0.0,\"#0d0887\"],[0.1111111111111111,\"#46039f\"],[0.2222222222222222,\"#7201a8\"],[0.3333333333333333,\"#9c179e\"],[0.4444444444444444,\"#bd3786\"],[0.5555555555555556,\"#d8576b\"],[0.6666666666666666,\"#ed7953\"],[0.7777777777777778,\"#fb9f3a\"],[0.8888888888888888,\"#fdca26\"],[1.0,\"#f0f921\"]],\"type\":\"histogram2dcontour\"}],\"mesh3d\":[{\"colorbar\":{\"outlinewidth\":0,\"ticks\":\"\"},\"type\":\"mesh3d\"}],\"parcoords\":[{\"line\":{\"colorbar\":{\"outlinewidth\":0,\"ticks\":\"\"}},\"type\":\"parcoords\"}],\"pie\":[{\"automargin\":true,\"type\":\"pie\"}],\"scatter\":[{\"marker\":{\"colorbar\":{\"outlinewidth\":0,\"ticks\":\"\"}},\"type\":\"scatter\"}],\"scatter3d\":[{\"line\":{\"colorbar\":{\"outlinewidth\":0,\"ticks\":\"\"}},\"marker\":{\"colorbar\":{\"outlinewidth\":0,\"ticks\":\"\"}},\"type\":\"scatter3d\"}],\"scattercarpet\":[{\"marker\":{\"colorbar\":{\"outlinewidth\":0,\"ticks\":\"\"}},\"type\":\"scattercarpet\"}],\"scattergeo\":[{\"marker\":{\"colorbar\":{\"outlinewidth\":0,\"ticks\":\"\"}},\"type\":\"scattergeo\"}],\"scattergl\":[{\"marker\":{\"colorbar\":{\"outlinewidth\":0,\"ticks\":\"\"}},\"type\":\"scattergl\"}],\"scattermapbox\":[{\"marker\":{\"colorbar\":{\"outlinewidth\":0,\"ticks\":\"\"}},\"type\":\"scattermapbox\"}],\"scatterpolar\":[{\"marker\":{\"colorbar\":{\"outlinewidth\":0,\"ticks\":\"\"}},\"type\":\"scatterpolar\"}],\"scatterpolargl\":[{\"marker\":{\"colorbar\":{\"outlinewidth\":0,\"ticks\":\"\"}},\"type\":\"scatterpolargl\"}],\"scatterternary\":[{\"marker\":{\"colorbar\":{\"outlinewidth\":0,\"ticks\":\"\"}},\"type\":\"scatterternary\"}],\"surface\":[{\"colorbar\":{\"outlinewidth\":0,\"ticks\":\"\"},\"colorscale\":[[0.0,\"#0d0887\"],[0.1111111111111111,\"#46039f\"],[0.2222222222222222,\"#7201a8\"],[0.3333333333333333,\"#9c179e\"],[0.4444444444444444,\"#bd3786\"],[0.5555555555555556,\"#d8576b\"],[0.6666666666666666,\"#ed7953\"],[0.7777777777777778,\"#fb9f3a\"],[0.8888888888888888,\"#fdca26\"],[1.0,\"#f0f921\"]],\"type\":\"surface\"}],\"table\":[{\"cells\":{\"fill\":{\"color\":\"#EBF0F8\"},\"line\":{\"color\":\"white\"}},\"header\":{\"fill\":{\"color\":\"#C8D4E3\"},\"line\":{\"color\":\"white\"}},\"type\":\"table\"}]},\"layout\":{\"annotationdefaults\":{\"arrowcolor\":\"#2a3f5f\",\"arrowhead\":0,\"arrowwidth\":1},\"autotypenumbers\":\"strict\",\"coloraxis\":{\"colorbar\":{\"outlinewidth\":0,\"ticks\":\"\"}},\"colorscale\":{\"diverging\":[[0,\"#8e0152\"],[0.1,\"#c51b7d\"],[0.2,\"#de77ae\"],[0.3,\"#f1b6da\"],[0.4,\"#fde0ef\"],[0.5,\"#f7f7f7\"],[0.6,\"#e6f5d0\"],[0.7,\"#b8e186\"],[0.8,\"#7fbc41\"],[0.9,\"#4d9221\"],[1,\"#276419\"]],\"sequential\":[[0.0,\"#0d0887\"],[0.1111111111111111,\"#46039f\"],[0.2222222222222222,\"#7201a8\"],[0.3333333333333333,\"#9c179e\"],[0.4444444444444444,\"#bd3786\"],[0.5555555555555556,\"#d8576b\"],[0.6666666666666666,\"#ed7953\"],[0.7777777777777778,\"#fb9f3a\"],[0.8888888888888888,\"#fdca26\"],[1.0,\"#f0f921\"]],\"sequentialminus\":[[0.0,\"#0d0887\"],[0.1111111111111111,\"#46039f\"],[0.2222222222222222,\"#7201a8\"],[0.3333333333333333,\"#9c179e\"],[0.4444444444444444,\"#bd3786\"],[0.5555555555555556,\"#d8576b\"],[0.6666666666666666,\"#ed7953\"],[0.7777777777777778,\"#fb9f3a\"],[0.8888888888888888,\"#fdca26\"],[1.0,\"#f0f921\"]]},\"colorway\":[\"#636efa\",\"#EF553B\",\"#00cc96\",\"#ab63fa\",\"#FFA15A\",\"#19d3f3\",\"#FF6692\",\"#B6E880\",\"#FF97FF\",\"#FECB52\"],\"font\":{\"color\":\"#2a3f5f\"},\"geo\":{\"bgcolor\":\"white\",\"lakecolor\":\"white\",\"landcolor\":\"#E5ECF6\",\"showlakes\":true,\"showland\":true,\"subunitcolor\":\"white\"},\"hoverlabel\":{\"align\":\"left\"},\"hovermode\":\"closest\",\"mapbox\":{\"style\":\"light\"},\"paper_bgcolor\":\"white\",\"plot_bgcolor\":\"#E5ECF6\",\"polar\":{\"angularaxis\":{\"gridcolor\":\"white\",\"linecolor\":\"white\",\"ticks\":\"\"},\"bgcolor\":\"#E5ECF6\",\"radialaxis\":{\"gridcolor\":\"white\",\"linecolor\":\"white\",\"ticks\":\"\"}},\"scene\":{\"xaxis\":{\"backgroundcolor\":\"#E5ECF6\",\"gridcolor\":\"white\",\"gridwidth\":2,\"linecolor\":\"white\",\"showbackground\":true,\"ticks\":\"\",\"zerolinecolor\":\"white\"},\"yaxis\":{\"backgroundcolor\":\"#E5ECF6\",\"gridcolor\":\"white\",\"gridwidth\":2,\"linecolor\":\"white\",\"showbackground\":true,\"ticks\":\"\",\"zerolinecolor\":\"white\"},\"zaxis\":{\"backgroundcolor\":\"#E5ECF6\",\"gridcolor\":\"white\",\"gridwidth\":2,\"linecolor\":\"white\",\"showbackground\":true,\"ticks\":\"\",\"zerolinecolor\":\"white\"}},\"shapedefaults\":{\"line\":{\"color\":\"#2a3f5f\"}},\"ternary\":{\"aaxis\":{\"gridcolor\":\"white\",\"linecolor\":\"white\",\"ticks\":\"\"},\"baxis\":{\"gridcolor\":\"white\",\"linecolor\":\"white\",\"ticks\":\"\"},\"bgcolor\":\"#E5ECF6\",\"caxis\":{\"gridcolor\":\"white\",\"linecolor\":\"white\",\"ticks\":\"\"}},\"title\":{\"x\":0.05},\"xaxis\":{\"automargin\":true,\"gridcolor\":\"white\",\"linecolor\":\"white\",\"ticks\":\"\",\"title\":{\"standoff\":15},\"zerolinecolor\":\"white\",\"zerolinewidth\":2},\"yaxis\":{\"automargin\":true,\"gridcolor\":\"white\",\"linecolor\":\"white\",\"ticks\":\"\",\"title\":{\"standoff\":15},\"zerolinecolor\":\"white\",\"zerolinewidth\":2}}},\"mapbox\":{\"domain\":{\"x\":[0.0,1.0],\"y\":[0.0,1.0]},\"center\":{\"lat\":43.136094279999995,\"lon\":3.7722005000000003},\"zoom\":5,\"style\":\"carto-positron\"},\"legend\":{\"tracegroupgap\":0},\"margin\":{\"t\":60}},                        {\"responsive\": true}                    ).then(function(){\n",
       "                            \n",
       "var gd = document.getElementById('3f9cfe55-1b57-47f4-988a-be4263906bd2');\n",
       "var x = new MutationObserver(function (mutations, observer) {{\n",
       "        var display = window.getComputedStyle(gd).display;\n",
       "        if (!display || display === 'none') {{\n",
       "            console.log([gd, 'removed!']);\n",
       "            Plotly.purge(gd);\n",
       "            observer.disconnect();\n",
       "        }}\n",
       "}});\n",
       "\n",
       "// Listen for the removal of the full notebook cells\n",
       "var notebookContainer = gd.closest('#notebook-container');\n",
       "if (notebookContainer) {{\n",
       "    x.observe(notebookContainer, {childList: true});\n",
       "}}\n",
       "\n",
       "// Listen for the clearing of the current output cell\n",
       "var outputEl = gd.closest('.output');\n",
       "if (outputEl) {{\n",
       "    x.observe(outputEl, {childList: true});\n",
       "}}\n",
       "\n",
       "                        })                };                });            </script>        </div>"
      ]
     },
     "metadata": {},
     "output_type": "display_data"
    }
   ],
   "source": [
    "fig = px.scatter_mapbox(\n",
    "        top5, \n",
    "        lat=\"lat\", \n",
    "        lon=\"long\",\n",
    "        mapbox_style=\"carto-positron\",\n",
    "        zoom=5,\n",
    "        \n",
    ")\n",
    "fig.update_traces(marker={'size' : 10})\n",
    "\n",
    "fig.show()"
   ]
  },
  {
   "cell_type": "code",
   "execution_count": 18,
   "id": "637cc67f-172f-4602-8203-9b119277c7c5",
   "metadata": {},
   "outputs": [
    {
     "data": {
      "text/html": [
       "<div>\n",
       "<style scoped>\n",
       "    .dataframe tbody tr th:only-of-type {\n",
       "        vertical-align: middle;\n",
       "    }\n",
       "\n",
       "    .dataframe tbody tr th {\n",
       "        vertical-align: top;\n",
       "    }\n",
       "\n",
       "    .dataframe thead th {\n",
       "        text-align: right;\n",
       "    }\n",
       "</style>\n",
       "<table border=\"1\" class=\"dataframe\">\n",
       "  <thead>\n",
       "    <tr style=\"text-align: right;\">\n",
       "      <th></th>\n",
       "      <th>id</th>\n",
       "      <th>city</th>\n",
       "      <th>lat</th>\n",
       "      <th>long</th>\n",
       "      <th>temp</th>\n",
       "      <th>pop</th>\n",
       "    </tr>\n",
       "  </thead>\n",
       "  <tbody>\n",
       "    <tr>\n",
       "      <th>0</th>\n",
       "      <td>17</td>\n",
       "      <td>Bormes les Mimosas</td>\n",
       "      <td>43.150697</td>\n",
       "      <td>6.341928</td>\n",
       "      <td>284.075714</td>\n",
       "      <td>0.502857</td>\n",
       "    </tr>\n",
       "    <tr>\n",
       "      <th>1</th>\n",
       "      <td>26</td>\n",
       "      <td>Collioure</td>\n",
       "      <td>42.525050</td>\n",
       "      <td>3.083155</td>\n",
       "      <td>284.072857</td>\n",
       "      <td>0.382857</td>\n",
       "    </tr>\n",
       "    <tr>\n",
       "      <th>2</th>\n",
       "      <td>18</td>\n",
       "      <td>Cassis</td>\n",
       "      <td>43.214036</td>\n",
       "      <td>5.539632</td>\n",
       "      <td>283.944286</td>\n",
       "      <td>0.422857</td>\n",
       "    </tr>\n",
       "    <tr>\n",
       "      <th>3</th>\n",
       "      <td>19</td>\n",
       "      <td>Marseille</td>\n",
       "      <td>43.296174</td>\n",
       "      <td>5.369953</td>\n",
       "      <td>283.502857</td>\n",
       "      <td>0.391429</td>\n",
       "    </tr>\n",
       "    <tr>\n",
       "      <th>4</th>\n",
       "      <td>32</td>\n",
       "      <td>Bayonne</td>\n",
       "      <td>43.494514</td>\n",
       "      <td>-1.473666</td>\n",
       "      <td>283.011429</td>\n",
       "      <td>0.575714</td>\n",
       "    </tr>\n",
       "  </tbody>\n",
       "</table>\n",
       "</div>"
      ],
      "text/plain": [
       "   id                city        lat      long        temp       pop\n",
       "0  17  Bormes les Mimosas  43.150697  6.341928  284.075714  0.502857\n",
       "1  26           Collioure  42.525050  3.083155  284.072857  0.382857\n",
       "2  18              Cassis  43.214036  5.539632  283.944286  0.422857\n",
       "3  19           Marseille  43.296174  5.369953  283.502857  0.391429\n",
       "4  32             Bayonne  43.494514 -1.473666  283.011429  0.575714"
      ]
     },
     "execution_count": 18,
     "metadata": {},
     "output_type": "execute_result"
    }
   ],
   "source": [
    "top5"
   ]
  },
  {
   "cell_type": "code",
   "execution_count": 42,
   "id": "2c631874-03d2-4282-a481-0a98b17950d8",
   "metadata": {},
   "outputs": [
    {
     "data": {
      "text/html": [
       "<div>\n",
       "<style scoped>\n",
       "    .dataframe tbody tr th:only-of-type {\n",
       "        vertical-align: middle;\n",
       "    }\n",
       "\n",
       "    .dataframe tbody tr th {\n",
       "        vertical-align: top;\n",
       "    }\n",
       "\n",
       "    .dataframe thead th {\n",
       "        text-align: right;\n",
       "    }\n",
       "</style>\n",
       "<table border=\"1\" class=\"dataframe\">\n",
       "  <thead>\n",
       "    <tr style=\"text-align: right;\">\n",
       "      <th></th>\n",
       "      <th>name</th>\n",
       "      <th>localisation</th>\n",
       "      <th>score</th>\n",
       "      <th>description</th>\n",
       "    </tr>\n",
       "  </thead>\n",
       "  <tbody>\n",
       "    <tr>\n",
       "      <th>0</th>\n",
       "      <td>La Frégate</td>\n",
       "      <td>42.52638625,3.08325659</td>\n",
       "      <td>8,2</td>\n",
       "      <td>Situé à Collioure, à 200 mètres de la plage de...</td>\n",
       "    </tr>\n",
       "    <tr>\n",
       "      <th>1</th>\n",
       "      <td>Maison de vacances Faubourg - 6LAM16</td>\n",
       "      <td>42.52369900,3.08270700</td>\n",
       "      <td>8,5</td>\n",
       "      <td>La Maison de vacances Faubourg - 6LAM16 est si...</td>\n",
       "    </tr>\n",
       "    <tr>\n",
       "      <th>2</th>\n",
       "      <td>Studio Centre Plage parking gratuit</td>\n",
       "      <td>42.52298768,3.08732966</td>\n",
       "      <td>9,1</td>\n",
       "      <td>Vous pouvez bénéficier d'une réduction Genius ...</td>\n",
       "    </tr>\n",
       "    <tr>\n",
       "      <th>3</th>\n",
       "      <td>BEL APPARTEMENT 4Pers RDC/parking/terrasse/ ja...</td>\n",
       "      <td>42.52836258,3.07816333</td>\n",
       "      <td>9,6</td>\n",
       "      <td>Doté d'une terrasse, le BEL APPARTEMENT 4Pers ...</td>\n",
       "    </tr>\n",
       "    <tr>\n",
       "      <th>4</th>\n",
       "      <td>SAPHIR - Superbe T2 Vue Mer et Montagne avec P...</td>\n",
       "      <td>42.52685322,3.07479878</td>\n",
       "      <td>9,1</td>\n",
       "      <td>Doté d'une piscine extérieure ouverte en saiso...</td>\n",
       "    </tr>\n",
       "    <tr>\n",
       "      <th>...</th>\n",
       "      <td>...</td>\n",
       "      <td>...</td>\n",
       "      <td>...</td>\n",
       "      <td>...</td>\n",
       "    </tr>\n",
       "    <tr>\n",
       "      <th>95</th>\n",
       "      <td>Les Suites de Collioure</td>\n",
       "      <td>42.52439000,3.08272600</td>\n",
       "      <td>9,3</td>\n",
       "      <td>Situé à Collioure, à 200 mètres de la plage de...</td>\n",
       "    </tr>\n",
       "    <tr>\n",
       "      <th>96</th>\n",
       "      <td>Le Mas des Citronniers</td>\n",
       "      <td>42.52538159,3.08256391</td>\n",
       "      <td>8,0</td>\n",
       "      <td>Vous pouvez bénéficier d'une réduction Genius ...</td>\n",
       "    </tr>\n",
       "    <tr>\n",
       "      <th>97</th>\n",
       "      <td>Résidence Saint Vincent</td>\n",
       "      <td>42.52730095,3.08423268</td>\n",
       "      <td>8,0</td>\n",
       "      <td>Vous pouvez bénéficier d'une réduction Genius ...</td>\n",
       "    </tr>\n",
       "    <tr>\n",
       "      <th>98</th>\n",
       "      <td>Appartement résidence Soleil Marin 4SOM23</td>\n",
       "      <td>42.52237104,3.08109576</td>\n",
       "      <td>8,1</td>\n",
       "      <td>Vous pouvez bénéficier d'une réduction Genius ...</td>\n",
       "    </tr>\n",
       "    <tr>\n",
       "      <th>99</th>\n",
       "      <td>Les Pieds dans l'Eau</td>\n",
       "      <td>42.52716324,3.08501510</td>\n",
       "      <td>7,6</td>\n",
       "      <td>Situé à Collioure, l'établissement Les Pieds d...</td>\n",
       "    </tr>\n",
       "  </tbody>\n",
       "</table>\n",
       "<p>100 rows × 4 columns</p>\n",
       "</div>"
      ],
      "text/plain": [
       "                                                 name            localisation  \\\n",
       "0                                          La Frégate  42.52638625,3.08325659   \n",
       "1                Maison de vacances Faubourg - 6LAM16  42.52369900,3.08270700   \n",
       "2                 Studio Centre Plage parking gratuit  42.52298768,3.08732966   \n",
       "3   BEL APPARTEMENT 4Pers RDC/parking/terrasse/ ja...  42.52836258,3.07816333   \n",
       "4   SAPHIR - Superbe T2 Vue Mer et Montagne avec P...  42.52685322,3.07479878   \n",
       "..                                                ...                     ...   \n",
       "95                            Les Suites de Collioure  42.52439000,3.08272600   \n",
       "96                             Le Mas des Citronniers  42.52538159,3.08256391   \n",
       "97                            Résidence Saint Vincent  42.52730095,3.08423268   \n",
       "98          Appartement résidence Soleil Marin 4SOM23  42.52237104,3.08109576   \n",
       "99                               Les Pieds dans l'Eau  42.52716324,3.08501510   \n",
       "\n",
       "   score                                        description  \n",
       "0    8,2  Situé à Collioure, à 200 mètres de la plage de...  \n",
       "1    8,5  La Maison de vacances Faubourg - 6LAM16 est si...  \n",
       "2    9,1  Vous pouvez bénéficier d'une réduction Genius ...  \n",
       "3    9,6  Doté d'une terrasse, le BEL APPARTEMENT 4Pers ...  \n",
       "4    9,1  Doté d'une piscine extérieure ouverte en saiso...  \n",
       "..   ...                                                ...  \n",
       "95   9,3  Situé à Collioure, à 200 mètres de la plage de...  \n",
       "96   8,0  Vous pouvez bénéficier d'une réduction Genius ...  \n",
       "97   8,0  Vous pouvez bénéficier d'une réduction Genius ...  \n",
       "98   8,1  Vous pouvez bénéficier d'une réduction Genius ...  \n",
       "99   7,6  Situé à Collioure, l'établissement Les Pieds d...  \n",
       "\n",
       "[100 rows x 4 columns]"
      ]
     },
     "execution_count": 42,
     "metadata": {},
     "output_type": "execute_result"
    }
   ],
   "source": [
    "hotels = pd.read_json('results/hotels_top5.json')\n",
    "hotels"
   ]
  },
  {
   "cell_type": "code",
   "execution_count": 20,
   "id": "c4d730fd-e1f2-4574-8fb9-27c9148065dd",
   "metadata": {},
   "outputs": [],
   "source": [
    "hotels[['lat','long']]=hotels.localisation.str.split(pat=',',expand=True)\n",
    "hotels[['lat','long']] = hotels[['lat','long']].astype(float)\n",
    "hotels['city_id'] = hotels['city_id'].astype(str)\n",
    "top5['id']=top5['id'].astype(str)"
   ]
  },
  {
   "cell_type": "code",
   "execution_count": 21,
   "id": "3b10634a-4e70-4e4d-a4af-107bb0cbf791",
   "metadata": {},
   "outputs": [
    {
     "data": {
      "text/html": [
       "<div>\n",
       "<style scoped>\n",
       "    .dataframe tbody tr th:only-of-type {\n",
       "        vertical-align: middle;\n",
       "    }\n",
       "\n",
       "    .dataframe tbody tr th {\n",
       "        vertical-align: top;\n",
       "    }\n",
       "\n",
       "    .dataframe thead th {\n",
       "        text-align: right;\n",
       "    }\n",
       "</style>\n",
       "<table border=\"1\" class=\"dataframe\">\n",
       "  <thead>\n",
       "    <tr style=\"text-align: right;\">\n",
       "      <th></th>\n",
       "      <th>name</th>\n",
       "      <th>localisation</th>\n",
       "      <th>score</th>\n",
       "      <th>description</th>\n",
       "      <th>city_id</th>\n",
       "      <th>lat_x</th>\n",
       "      <th>long_x</th>\n",
       "      <th>id</th>\n",
       "      <th>city</th>\n",
       "      <th>lat_y</th>\n",
       "      <th>long_y</th>\n",
       "      <th>temp</th>\n",
       "      <th>pop</th>\n",
       "    </tr>\n",
       "  </thead>\n",
       "  <tbody>\n",
       "    <tr>\n",
       "      <th>0</th>\n",
       "      <td>Coeur de village</td>\n",
       "      <td>43.15007700,6.34264100</td>\n",
       "      <td>8,2</td>\n",
       "      <td>Vous pouvez bénéficier d'une réduction Genius ...</td>\n",
       "      <td>17</td>\n",
       "      <td>43.150077</td>\n",
       "      <td>6.342641</td>\n",
       "      <td>17</td>\n",
       "      <td>Bormes les Mimosas</td>\n",
       "      <td>43.150697</td>\n",
       "      <td>6.341928</td>\n",
       "      <td>284.075714</td>\n",
       "      <td>0.502857</td>\n",
       "    </tr>\n",
       "    <tr>\n",
       "      <th>1</th>\n",
       "      <td>Auberge du dom</td>\n",
       "      <td>43.19686000,6.38700560</td>\n",
       "      <td>9,6</td>\n",
       "      <td>Dotée d'une piscine extérieure, d'un bar et d'...</td>\n",
       "      <td>17</td>\n",
       "      <td>43.196860</td>\n",
       "      <td>6.387006</td>\n",
       "      <td>17</td>\n",
       "      <td>Bormes les Mimosas</td>\n",
       "      <td>43.150697</td>\n",
       "      <td>6.341928</td>\n",
       "      <td>284.075714</td>\n",
       "      <td>0.502857</td>\n",
       "    </tr>\n",
       "    <tr>\n",
       "      <th>2</th>\n",
       "      <td>Hôtel Paradis</td>\n",
       "      <td>43.14468600,6.33512500</td>\n",
       "      <td>8,0</td>\n",
       "      <td>L'hôtel Paradis occupe un bâtiment datant de 1...</td>\n",
       "      <td>17</td>\n",
       "      <td>43.144686</td>\n",
       "      <td>6.335125</td>\n",
       "      <td>17</td>\n",
       "      <td>Bormes les Mimosas</td>\n",
       "      <td>43.150697</td>\n",
       "      <td>6.341928</td>\n",
       "      <td>284.075714</td>\n",
       "      <td>0.502857</td>\n",
       "    </tr>\n",
       "    <tr>\n",
       "      <th>3</th>\n",
       "      <td>Hostellerie du Cigalou - Les Collectionneurs</td>\n",
       "      <td>43.15195790,6.34328350</td>\n",
       "      <td>7,8</td>\n",
       "      <td>Vous pouvez bénéficier d'une réduction Genius ...</td>\n",
       "      <td>17</td>\n",
       "      <td>43.151958</td>\n",
       "      <td>6.343284</td>\n",
       "      <td>17</td>\n",
       "      <td>Bormes les Mimosas</td>\n",
       "      <td>43.150697</td>\n",
       "      <td>6.341928</td>\n",
       "      <td>284.075714</td>\n",
       "      <td>0.502857</td>\n",
       "    </tr>\n",
       "    <tr>\n",
       "      <th>4</th>\n",
       "      <td>SELECT'SO HOME - Résidence Le Bella Vista - Pi...</td>\n",
       "      <td>43.12310600,6.35452800</td>\n",
       "      <td>10</td>\n",
       "      <td>BELLA VISTA T3 RDJardin 6 pers LA FAVIERE BV04...</td>\n",
       "      <td>17</td>\n",
       "      <td>43.123106</td>\n",
       "      <td>6.354528</td>\n",
       "      <td>17</td>\n",
       "      <td>Bormes les Mimosas</td>\n",
       "      <td>43.150697</td>\n",
       "      <td>6.341928</td>\n",
       "      <td>284.075714</td>\n",
       "      <td>0.502857</td>\n",
       "    </tr>\n",
       "    <tr>\n",
       "      <th>...</th>\n",
       "      <td>...</td>\n",
       "      <td>...</td>\n",
       "      <td>...</td>\n",
       "      <td>...</td>\n",
       "      <td>...</td>\n",
       "      <td>...</td>\n",
       "      <td>...</td>\n",
       "      <td>...</td>\n",
       "      <td>...</td>\n",
       "      <td>...</td>\n",
       "      <td>...</td>\n",
       "      <td>...</td>\n",
       "      <td>...</td>\n",
       "    </tr>\n",
       "    <tr>\n",
       "      <th>95</th>\n",
       "      <td>Hotel Loreak</td>\n",
       "      <td>43.49349109,-1.45263344</td>\n",
       "      <td>7,9</td>\n",
       "      <td>Installé à 2 km du centre-ville de Bayonne, l’...</td>\n",
       "      <td>32</td>\n",
       "      <td>43.493491</td>\n",
       "      <td>-1.452633</td>\n",
       "      <td>32</td>\n",
       "      <td>Bayonne</td>\n",
       "      <td>43.494514</td>\n",
       "      <td>-1.473666</td>\n",
       "      <td>283.011429</td>\n",
       "      <td>0.575714</td>\n",
       "    </tr>\n",
       "    <tr>\n",
       "      <th>96</th>\n",
       "      <td>Maison d'hôtes City Break MIRADOUR</td>\n",
       "      <td>43.48951300,-1.47907800</td>\n",
       "      <td>8,8</td>\n",
       "      <td>Située à Bayonne, la Maison d'hôtes City Break...</td>\n",
       "      <td>32</td>\n",
       "      <td>43.489513</td>\n",
       "      <td>-1.479078</td>\n",
       "      <td>32</td>\n",
       "      <td>Bayonne</td>\n",
       "      <td>43.494514</td>\n",
       "      <td>-1.473666</td>\n",
       "      <td>283.011429</td>\n",
       "      <td>0.575714</td>\n",
       "    </tr>\n",
       "    <tr>\n",
       "      <th>97</th>\n",
       "      <td>Hôtel Villa KOEGUI Bayonne</td>\n",
       "      <td>43.49237100,-1.47258800</td>\n",
       "      <td>9,0</td>\n",
       "      <td>Doté d’un bar, d’un restaurant, d’une terrasse...</td>\n",
       "      <td>32</td>\n",
       "      <td>43.492371</td>\n",
       "      <td>-1.472588</td>\n",
       "      <td>32</td>\n",
       "      <td>Bayonne</td>\n",
       "      <td>43.494514</td>\n",
       "      <td>-1.473666</td>\n",
       "      <td>283.011429</td>\n",
       "      <td>0.575714</td>\n",
       "    </tr>\n",
       "    <tr>\n",
       "      <th>98</th>\n",
       "      <td>Hotel Cote Basque</td>\n",
       "      <td>43.49618306,-1.46960109</td>\n",
       "      <td>7,8</td>\n",
       "      <td>Vous pouvez bénéficier d'une réduction Genius ...</td>\n",
       "      <td>32</td>\n",
       "      <td>43.496183</td>\n",
       "      <td>-1.469601</td>\n",
       "      <td>32</td>\n",
       "      <td>Bayonne</td>\n",
       "      <td>43.494514</td>\n",
       "      <td>-1.473666</td>\n",
       "      <td>283.011429</td>\n",
       "      <td>0.575714</td>\n",
       "    </tr>\n",
       "    <tr>\n",
       "      <th>99</th>\n",
       "      <td>Villa la Renaissance</td>\n",
       "      <td>43.48232100,-1.46816400</td>\n",
       "      <td>9,2</td>\n",
       "      <td>La Villa la Renaissance propose des chambres à...</td>\n",
       "      <td>32</td>\n",
       "      <td>43.482321</td>\n",
       "      <td>-1.468164</td>\n",
       "      <td>32</td>\n",
       "      <td>Bayonne</td>\n",
       "      <td>43.494514</td>\n",
       "      <td>-1.473666</td>\n",
       "      <td>283.011429</td>\n",
       "      <td>0.575714</td>\n",
       "    </tr>\n",
       "  </tbody>\n",
       "</table>\n",
       "<p>100 rows × 13 columns</p>\n",
       "</div>"
      ],
      "text/plain": [
       "                                                 name  \\\n",
       "0                                    Coeur de village   \n",
       "1                                      Auberge du dom   \n",
       "2                                       Hôtel Paradis   \n",
       "3        Hostellerie du Cigalou - Les Collectionneurs   \n",
       "4   SELECT'SO HOME - Résidence Le Bella Vista - Pi...   \n",
       "..                                                ...   \n",
       "95                                       Hotel Loreak   \n",
       "96                 Maison d'hôtes City Break MIRADOUR   \n",
       "97                         Hôtel Villa KOEGUI Bayonne   \n",
       "98                                  Hotel Cote Basque   \n",
       "99                               Villa la Renaissance   \n",
       "\n",
       "               localisation score  \\\n",
       "0    43.15007700,6.34264100   8,2   \n",
       "1    43.19686000,6.38700560   9,6   \n",
       "2    43.14468600,6.33512500   8,0   \n",
       "3    43.15195790,6.34328350   7,8   \n",
       "4    43.12310600,6.35452800    10   \n",
       "..                      ...   ...   \n",
       "95  43.49349109,-1.45263344   7,9   \n",
       "96  43.48951300,-1.47907800   8,8   \n",
       "97  43.49237100,-1.47258800   9,0   \n",
       "98  43.49618306,-1.46960109   7,8   \n",
       "99  43.48232100,-1.46816400   9,2   \n",
       "\n",
       "                                          description city_id      lat_x  \\\n",
       "0   Vous pouvez bénéficier d'une réduction Genius ...      17  43.150077   \n",
       "1   Dotée d'une piscine extérieure, d'un bar et d'...      17  43.196860   \n",
       "2   L'hôtel Paradis occupe un bâtiment datant de 1...      17  43.144686   \n",
       "3   Vous pouvez bénéficier d'une réduction Genius ...      17  43.151958   \n",
       "4   BELLA VISTA T3 RDJardin 6 pers LA FAVIERE BV04...      17  43.123106   \n",
       "..                                                ...     ...        ...   \n",
       "95  Installé à 2 km du centre-ville de Bayonne, l’...      32  43.493491   \n",
       "96  Située à Bayonne, la Maison d'hôtes City Break...      32  43.489513   \n",
       "97  Doté d’un bar, d’un restaurant, d’une terrasse...      32  43.492371   \n",
       "98  Vous pouvez bénéficier d'une réduction Genius ...      32  43.496183   \n",
       "99  La Villa la Renaissance propose des chambres à...      32  43.482321   \n",
       "\n",
       "      long_x  id                city      lat_y    long_y        temp  \\\n",
       "0   6.342641  17  Bormes les Mimosas  43.150697  6.341928  284.075714   \n",
       "1   6.387006  17  Bormes les Mimosas  43.150697  6.341928  284.075714   \n",
       "2   6.335125  17  Bormes les Mimosas  43.150697  6.341928  284.075714   \n",
       "3   6.343284  17  Bormes les Mimosas  43.150697  6.341928  284.075714   \n",
       "4   6.354528  17  Bormes les Mimosas  43.150697  6.341928  284.075714   \n",
       "..       ...  ..                 ...        ...       ...         ...   \n",
       "95 -1.452633  32             Bayonne  43.494514 -1.473666  283.011429   \n",
       "96 -1.479078  32             Bayonne  43.494514 -1.473666  283.011429   \n",
       "97 -1.472588  32             Bayonne  43.494514 -1.473666  283.011429   \n",
       "98 -1.469601  32             Bayonne  43.494514 -1.473666  283.011429   \n",
       "99 -1.468164  32             Bayonne  43.494514 -1.473666  283.011429   \n",
       "\n",
       "         pop  \n",
       "0   0.502857  \n",
       "1   0.502857  \n",
       "2   0.502857  \n",
       "3   0.502857  \n",
       "4   0.502857  \n",
       "..       ...  \n",
       "95  0.575714  \n",
       "96  0.575714  \n",
       "97  0.575714  \n",
       "98  0.575714  \n",
       "99  0.575714  \n",
       "\n",
       "[100 rows x 13 columns]"
      ]
     },
     "execution_count": 21,
     "metadata": {},
     "output_type": "execute_result"
    }
   ],
   "source": [
    "hotels = hotels.merge(top5, how='inner', left_on='city_id', right_on='id')\n",
    "hotels"
   ]
  },
  {
   "cell_type": "code",
   "execution_count": 23,
   "id": "7251fd26-97eb-471d-a500-bddc747023dd",
   "metadata": {},
   "outputs": [
    {
     "data": {
      "application/vnd.plotly.v1+json": {
       "config": {
        "plotlyServerURL": "https://plot.ly"
       },
       "data": [
        {
         "hovertemplate": "<b>%{hovertext}</b><br><br>city=Bormes les Mimosas<br>lat_x=%{lat}<br>long_x=%{lon}<extra></extra>",
         "hovertext": [
          "Coeur de village",
          "Auberge du dom",
          "Hôtel Paradis",
          "Hostellerie du Cigalou - Les Collectionneurs",
          "SELECT'SO HOME - Résidence Le Bella Vista - Piscine sur le toit et vue panoramique - Prestations de qualité & Services Hôteliers - BV04B",
          "L'appart Isa&Marc T2 avec rez-de-jardin (bus aéroport) tout équipé pour 4 personnes;",
          "Studio clim wifi centre historique de Bormes les Mimosas",
          "La petite Provence",
          "Hotel La Voile",
          "Studio Bormes-les-Mimosas, 1 pièce, 3 personnes - FR-1-677-4",
          "Les deux mas",
          "FACE MER ENTRE PLAGE ET MARINA",
          "Boulevard du Soleil",
          "T2 BORMES LES MIMOSAS, La Faviere à 5 mn à pieds de la plage",
          "Mer et soleil",
          "Superbe Duplex 35m2 vue mer avec piscine",
          "Studio avec Jardin et Parking Privés",
          "Asklan",
          "Appartement Bord de Mer La Faviere",
          "HomeStay Bormes"
         ],
         "lat": [
          43.150077,
          43.19686,
          43.144686,
          43.1519579,
          43.123106,
          43.14450993,
          43.15036057,
          43.15127099,
          43.12549,
          43.1237521,
          43.14393659,
          43.12212055,
          43.14923281,
          43.1238127,
          43.12559147,
          43.1431217,
          43.1403633,
          43.12264843,
          43.12602594,
          43.146445
         ],
         "legendgroup": "Bormes les Mimosas",
         "lon": [
          6.342641,
          6.3870056,
          6.335125,
          6.3432835,
          6.354528,
          6.33768565,
          6.34262603,
          6.34190677,
          6.3573,
          6.3518625,
          6.33632324,
          6.36269069,
          6.34197015,
          6.3581327,
          6.35555415,
          6.3521398,
          6.3367149,
          6.35946596,
          6.35675467,
          6.327724
         ],
         "marker": {
          "color": "#636efa",
          "size": 5
         },
         "mode": "markers",
         "name": "Bormes les Mimosas",
         "showlegend": true,
         "subplot": "mapbox",
         "type": "scattermapbox"
        },
        {
         "hovertemplate": "<b>%{hovertext}</b><br><br>city=Collioure<br>lat_x=%{lat}<br>long_x=%{lon}<extra></extra>",
         "hovertext": [
          "Studio Centre Plage parking gratuit",
          "Maison de vacances Faubourg - 6LAM16",
          "BEL APPARTEMENT 4Pers RDC/parking/terrasse/ jardin",
          "SAPHIR - Superbe T2 Vue Mer et Montagne avec PISCINE et GARAGE PRIVE",
          "6AMB38-Villa avec terrasse dans résidence avec piscine commune",
          "Au coeur de Collioure",
          "Le Madeloc Hôtel & Spa",
          "Villa 6 personnes dans résidence 6CHK4",
          "Hotel Méditerranée",
          "Résidence du Soleil",
          "Appartement Sous le Soleil",
          "Mas de la Croette Collioure",
          "Hôtel Triton",
          "Hôtel La Casa Pairal",
          "Les Suites de Collioure",
          "Le Mas des Citronniers",
          "Les Roches Brunes",
          "Appartement résidence Soleil Marin 4SOM23",
          "Les Pieds dans l'Eau",
          "La Frégate"
         ],
         "lat": [
          42.52298768,
          42.523699,
          42.52836258,
          42.52685322,
          42.524704,
          42.5273935,
          42.52876467,
          42.526207,
          42.52708254,
          42.52311754,
          42.5271222,
          42.5217335,
          42.52371617,
          42.52616733,
          42.52439,
          42.52538159,
          42.52534777,
          42.52237104,
          42.52716324,
          42.52638625
         ],
         "legendgroup": "Collioure",
         "lon": [
          3.08732966,
          3.082707,
          3.07816333,
          3.07479878,
          3.078535,
          3.0847579,
          3.07865426,
          3.075367,
          3.08026291,
          3.0854253,
          3.0765161,
          3.0728738,
          3.08713473,
          3.08235571,
          3.082726,
          3.08256391,
          3.09032446,
          3.08109576,
          3.0850151,
          3.08325659
         ],
         "marker": {
          "color": "#EF553B",
          "size": 5
         },
         "mode": "markers",
         "name": "Collioure",
         "showlegend": true,
         "subplot": "mapbox",
         "type": "scattermapbox"
        },
        {
         "hovertemplate": "<b>%{hovertext}</b><br><br>city=Cassis<br>lat_x=%{lat}<br>long_x=%{lon}<extra></extra>",
         "hovertext": [
          "AZUR - Vue mer - Parking - Climatisation",
          "TERRE MARINE - Bel appartement avec terrasse vue mer",
          "Le Duplex",
          "L'Oustau par Dodo à Cassis",
          "Home Cassis - Maison Julou - Piscine chauffée",
          "HORIZON BLEU Vue Mer",
          "CALANQUE D'EN VAU",
          "La douceur de Cassis",
          "MISTRAL Gagnant",
          "Le chemin de belle fille",
          "SunRise Cassis",
          "HPC Suites",
          "SunSet Cassis",
          "Cassis Ma Vie Là",
          "appartement cosy à 10 mètres du port de Cassis",
          "appartement du pêcheur à Cassis à 10 mètres du port",
          "Plage & Calanques Cassis",
          "Bright flat classified with 2 in the centre of Cassis - Welkeys",
          "UNE TERRASSE SUR LA MER 3 pers 2 chambres VUE MER",
          "Superb bright flat with balcony and sea view in Cassis - Welkeys"
         ],
         "lat": [
          43.2194543,
          43.2169655,
          43.21505477,
          43.21351619,
          43.22207969,
          43.21499337,
          43.21459857,
          43.215009,
          43.21537,
          43.21641033,
          43.21521908,
          43.21644024,
          43.215456,
          43.216905,
          43.21533507,
          43.21534046,
          43.2120018,
          43.2143771,
          43.21407197,
          43.21495674
         ],
         "legendgroup": "Cassis",
         "lon": [
          5.5414116,
          5.5295811,
          5.54057326,
          5.5432609,
          5.53792695,
          5.53584943,
          5.53784404,
          5.530956,
          5.53719,
          5.55070017,
          5.53568187,
          5.54174572,
          5.535734,
          5.541446,
          5.53686093,
          5.5368582,
          5.5276305,
          5.5377803,
          5.53062182,
          5.5357946
         ],
         "marker": {
          "color": "#00cc96",
          "size": 5
         },
         "mode": "markers",
         "name": "Cassis",
         "showlegend": true,
         "subplot": "mapbox",
         "type": "scattermapbox"
        },
        {
         "hovertemplate": "<b>%{hovertext}</b><br><br>city=Marseille<br>lat_x=%{lat}<br>long_x=%{lon}<extra></extra>",
         "hovertext": [
          "BLUE BAY - superbe vue sur le Vieux Port",
          "T2 équipé au calme + Terrasse à 1 km de la Mer",
          "Le Loft Saint Saëns",
          "PREMIERE LIGNE - Bel appartement en 1ère ligne du Vieux e",
          "Les Petits Pavillons - MaisonMars",
          "LE COSY BEACH",
          "Les Appartements du Vieux Port",
          "Studio chaleureux au Panier - Tout confort pour 2 personnes",
          "Marseille: Superbe vue sur Notre-Dame de la Garde",
          "Balcon Filant, Vue 180, Store, Netflix, Clim ,Ascenseur, T2",
          "THE BUILDING - Appartement d'architecte avec vue Notre Dame de la Garde",
          "Mini Loft au coeur du Panier - Marseille",
          "STUDIO ** ROOFTOP ** LULLI",
          "Le Flammarion  Haut Standing  Wifi-Netflix-Clim",
          "Le Leca - Appartement 2 chambres parking",
          "CMG - Marseille / Opéra",
          "T3 ** BALCON ** VIEUX PORT ** CENTRE",
          "Appartement Haussmannien rue piétonne Opéra",
          "Superb 1 bedroom flat 1min walk to the Old Port",
          "La Pitcholine : Superbe studio au Vieux-Port"
         ],
         "lat": [
          43.2971913,
          43.2819397,
          43.2932912,
          43.29643359,
          43.2953257,
          43.2825572,
          43.2951169,
          43.2985385,
          43.28344714,
          43.2950935,
          43.2974929,
          43.29846177,
          43.2923699,
          43.30585573,
          43.3022498,
          43.293005,
          43.294267,
          43.2928242,
          43.2935505,
          43.2921892
         ],
         "legendgroup": "Marseille",
         "lon": [
          5.3640876,
          5.3651066,
          5.3738254,
          5.37142705,
          5.3771871,
          5.4075679,
          5.3761663,
          5.3666662,
          5.38683235,
          5.37537445,
          5.3803301,
          5.36742433,
          5.3761148,
          5.39270165,
          5.3659113,
          5.3768201,
          5.3767997,
          5.3778628,
          5.3745805,
          5.3700136
         ],
         "marker": {
          "color": "#ab63fa",
          "size": 5
         },
         "mode": "markers",
         "name": "Marseille",
         "showlegend": true,
         "subplot": "mapbox",
         "type": "scattermapbox"
        },
        {
         "hovertemplate": "<b>%{hovertext}</b><br><br>city=Bayonne<br>lat_x=%{lat}<br>long_x=%{lon}<extra></extra>",
         "hovertext": [
          "Bayonne en plein cœur Centre Historique 2 chambres",
          "Appartement résidence neuve",
          "Euskal etxea",
          "T3 avec sa terrasse ensoleillée",
          "Hotel Restaurant Les Genets",
          "jeu de paume",
          "L'âme Nomade - Bayonne Centre",
          "ibis budget Bayonne",
          "23 Avenue du 8 Mai 1945",
          "Péniche DJEBELLE",
          "Hostel 20 Bayonne",
          "Le Petit Nid Douillet de Jéjé",
          "Boutique Hôtel Un Appart en Ville",
          "Appart'Hôtel Bellevue",
          "Parc 709 Bayonne",
          "Hotel Loreak",
          "Maison d'hôtes City Break MIRADOUR",
          "Hôtel Villa KOEGUI Bayonne",
          "Hotel Cote Basque",
          "Villa la Renaissance"
         ],
         "lat": [
          43.4890699,
          43.5057686,
          43.4872203,
          43.50708131,
          43.46494896,
          43.4898477,
          43.49787499,
          43.48908262,
          43.4728192,
          43.496335,
          43.49535,
          43.49405931,
          43.4909225,
          43.50579423,
          43.495606,
          43.49349109,
          43.489513,
          43.492371,
          43.49618306,
          43.482321
         ],
         "legendgroup": "Bayonne",
         "lon": [
          -1.4755226,
          -1.4596692,
          -1.4658403,
          -1.47534745,
          -1.49584383,
          -1.4718019,
          -1.48486985,
          -1.45717809,
          -1.4858856,
          -1.473749,
          -1.468753,
          -1.4682464,
          -1.4774412,
          -1.45608832,
          -1.481317,
          -1.45263344,
          -1.479078,
          -1.472588,
          -1.46960109,
          -1.468164
         ],
         "marker": {
          "color": "#FFA15A",
          "size": 5
         },
         "mode": "markers",
         "name": "Bayonne",
         "showlegend": true,
         "subplot": "mapbox",
         "type": "scattermapbox"
        }
       ],
       "layout": {
        "autosize": true,
        "legend": {
         "title": {
          "text": "city"
         },
         "tracegroupgap": 0
        },
        "mapbox": {
         "bearing": 0,
         "center": {
          "lat": 43.32385037864148,
          "lon": -1.1181089097821086
         },
         "domain": {
          "x": [
           0,
           1
          ],
          "y": [
           0,
           1
          ]
         },
         "pitch": 0,
         "style": "carto-positron",
         "zoom": 7.911438425158165
        },
        "margin": {
         "t": 60
        },
        "template": {
         "data": {
          "bar": [
           {
            "error_x": {
             "color": "#2a3f5f"
            },
            "error_y": {
             "color": "#2a3f5f"
            },
            "marker": {
             "line": {
              "color": "#E5ECF6",
              "width": 0.5
             },
             "pattern": {
              "fillmode": "overlay",
              "size": 10,
              "solidity": 0.2
             }
            },
            "type": "bar"
           }
          ],
          "barpolar": [
           {
            "marker": {
             "line": {
              "color": "#E5ECF6",
              "width": 0.5
             },
             "pattern": {
              "fillmode": "overlay",
              "size": 10,
              "solidity": 0.2
             }
            },
            "type": "barpolar"
           }
          ],
          "carpet": [
           {
            "aaxis": {
             "endlinecolor": "#2a3f5f",
             "gridcolor": "white",
             "linecolor": "white",
             "minorgridcolor": "white",
             "startlinecolor": "#2a3f5f"
            },
            "baxis": {
             "endlinecolor": "#2a3f5f",
             "gridcolor": "white",
             "linecolor": "white",
             "minorgridcolor": "white",
             "startlinecolor": "#2a3f5f"
            },
            "type": "carpet"
           }
          ],
          "choropleth": [
           {
            "colorbar": {
             "outlinewidth": 0,
             "ticks": ""
            },
            "type": "choropleth"
           }
          ],
          "contour": [
           {
            "colorbar": {
             "outlinewidth": 0,
             "ticks": ""
            },
            "colorscale": [
             [
              0,
              "#0d0887"
             ],
             [
              0.1111111111111111,
              "#46039f"
             ],
             [
              0.2222222222222222,
              "#7201a8"
             ],
             [
              0.3333333333333333,
              "#9c179e"
             ],
             [
              0.4444444444444444,
              "#bd3786"
             ],
             [
              0.5555555555555556,
              "#d8576b"
             ],
             [
              0.6666666666666666,
              "#ed7953"
             ],
             [
              0.7777777777777778,
              "#fb9f3a"
             ],
             [
              0.8888888888888888,
              "#fdca26"
             ],
             [
              1,
              "#f0f921"
             ]
            ],
            "type": "contour"
           }
          ],
          "contourcarpet": [
           {
            "colorbar": {
             "outlinewidth": 0,
             "ticks": ""
            },
            "type": "contourcarpet"
           }
          ],
          "heatmap": [
           {
            "colorbar": {
             "outlinewidth": 0,
             "ticks": ""
            },
            "colorscale": [
             [
              0,
              "#0d0887"
             ],
             [
              0.1111111111111111,
              "#46039f"
             ],
             [
              0.2222222222222222,
              "#7201a8"
             ],
             [
              0.3333333333333333,
              "#9c179e"
             ],
             [
              0.4444444444444444,
              "#bd3786"
             ],
             [
              0.5555555555555556,
              "#d8576b"
             ],
             [
              0.6666666666666666,
              "#ed7953"
             ],
             [
              0.7777777777777778,
              "#fb9f3a"
             ],
             [
              0.8888888888888888,
              "#fdca26"
             ],
             [
              1,
              "#f0f921"
             ]
            ],
            "type": "heatmap"
           }
          ],
          "heatmapgl": [
           {
            "colorbar": {
             "outlinewidth": 0,
             "ticks": ""
            },
            "colorscale": [
             [
              0,
              "#0d0887"
             ],
             [
              0.1111111111111111,
              "#46039f"
             ],
             [
              0.2222222222222222,
              "#7201a8"
             ],
             [
              0.3333333333333333,
              "#9c179e"
             ],
             [
              0.4444444444444444,
              "#bd3786"
             ],
             [
              0.5555555555555556,
              "#d8576b"
             ],
             [
              0.6666666666666666,
              "#ed7953"
             ],
             [
              0.7777777777777778,
              "#fb9f3a"
             ],
             [
              0.8888888888888888,
              "#fdca26"
             ],
             [
              1,
              "#f0f921"
             ]
            ],
            "type": "heatmapgl"
           }
          ],
          "histogram": [
           {
            "marker": {
             "pattern": {
              "fillmode": "overlay",
              "size": 10,
              "solidity": 0.2
             }
            },
            "type": "histogram"
           }
          ],
          "histogram2d": [
           {
            "colorbar": {
             "outlinewidth": 0,
             "ticks": ""
            },
            "colorscale": [
             [
              0,
              "#0d0887"
             ],
             [
              0.1111111111111111,
              "#46039f"
             ],
             [
              0.2222222222222222,
              "#7201a8"
             ],
             [
              0.3333333333333333,
              "#9c179e"
             ],
             [
              0.4444444444444444,
              "#bd3786"
             ],
             [
              0.5555555555555556,
              "#d8576b"
             ],
             [
              0.6666666666666666,
              "#ed7953"
             ],
             [
              0.7777777777777778,
              "#fb9f3a"
             ],
             [
              0.8888888888888888,
              "#fdca26"
             ],
             [
              1,
              "#f0f921"
             ]
            ],
            "type": "histogram2d"
           }
          ],
          "histogram2dcontour": [
           {
            "colorbar": {
             "outlinewidth": 0,
             "ticks": ""
            },
            "colorscale": [
             [
              0,
              "#0d0887"
             ],
             [
              0.1111111111111111,
              "#46039f"
             ],
             [
              0.2222222222222222,
              "#7201a8"
             ],
             [
              0.3333333333333333,
              "#9c179e"
             ],
             [
              0.4444444444444444,
              "#bd3786"
             ],
             [
              0.5555555555555556,
              "#d8576b"
             ],
             [
              0.6666666666666666,
              "#ed7953"
             ],
             [
              0.7777777777777778,
              "#fb9f3a"
             ],
             [
              0.8888888888888888,
              "#fdca26"
             ],
             [
              1,
              "#f0f921"
             ]
            ],
            "type": "histogram2dcontour"
           }
          ],
          "mesh3d": [
           {
            "colorbar": {
             "outlinewidth": 0,
             "ticks": ""
            },
            "type": "mesh3d"
           }
          ],
          "parcoords": [
           {
            "line": {
             "colorbar": {
              "outlinewidth": 0,
              "ticks": ""
             }
            },
            "type": "parcoords"
           }
          ],
          "pie": [
           {
            "automargin": true,
            "type": "pie"
           }
          ],
          "scatter": [
           {
            "marker": {
             "colorbar": {
              "outlinewidth": 0,
              "ticks": ""
             }
            },
            "type": "scatter"
           }
          ],
          "scatter3d": [
           {
            "line": {
             "colorbar": {
              "outlinewidth": 0,
              "ticks": ""
             }
            },
            "marker": {
             "colorbar": {
              "outlinewidth": 0,
              "ticks": ""
             }
            },
            "type": "scatter3d"
           }
          ],
          "scattercarpet": [
           {
            "marker": {
             "colorbar": {
              "outlinewidth": 0,
              "ticks": ""
             }
            },
            "type": "scattercarpet"
           }
          ],
          "scattergeo": [
           {
            "marker": {
             "colorbar": {
              "outlinewidth": 0,
              "ticks": ""
             }
            },
            "type": "scattergeo"
           }
          ],
          "scattergl": [
           {
            "marker": {
             "colorbar": {
              "outlinewidth": 0,
              "ticks": ""
             }
            },
            "type": "scattergl"
           }
          ],
          "scattermapbox": [
           {
            "marker": {
             "colorbar": {
              "outlinewidth": 0,
              "ticks": ""
             }
            },
            "type": "scattermapbox"
           }
          ],
          "scatterpolar": [
           {
            "marker": {
             "colorbar": {
              "outlinewidth": 0,
              "ticks": ""
             }
            },
            "type": "scatterpolar"
           }
          ],
          "scatterpolargl": [
           {
            "marker": {
             "colorbar": {
              "outlinewidth": 0,
              "ticks": ""
             }
            },
            "type": "scatterpolargl"
           }
          ],
          "scatterternary": [
           {
            "marker": {
             "colorbar": {
              "outlinewidth": 0,
              "ticks": ""
             }
            },
            "type": "scatterternary"
           }
          ],
          "surface": [
           {
            "colorbar": {
             "outlinewidth": 0,
             "ticks": ""
            },
            "colorscale": [
             [
              0,
              "#0d0887"
             ],
             [
              0.1111111111111111,
              "#46039f"
             ],
             [
              0.2222222222222222,
              "#7201a8"
             ],
             [
              0.3333333333333333,
              "#9c179e"
             ],
             [
              0.4444444444444444,
              "#bd3786"
             ],
             [
              0.5555555555555556,
              "#d8576b"
             ],
             [
              0.6666666666666666,
              "#ed7953"
             ],
             [
              0.7777777777777778,
              "#fb9f3a"
             ],
             [
              0.8888888888888888,
              "#fdca26"
             ],
             [
              1,
              "#f0f921"
             ]
            ],
            "type": "surface"
           }
          ],
          "table": [
           {
            "cells": {
             "fill": {
              "color": "#EBF0F8"
             },
             "line": {
              "color": "white"
             }
            },
            "header": {
             "fill": {
              "color": "#C8D4E3"
             },
             "line": {
              "color": "white"
             }
            },
            "type": "table"
           }
          ]
         },
         "layout": {
          "annotationdefaults": {
           "arrowcolor": "#2a3f5f",
           "arrowhead": 0,
           "arrowwidth": 1
          },
          "autotypenumbers": "strict",
          "coloraxis": {
           "colorbar": {
            "outlinewidth": 0,
            "ticks": ""
           }
          },
          "colorscale": {
           "diverging": [
            [
             0,
             "#8e0152"
            ],
            [
             0.1,
             "#c51b7d"
            ],
            [
             0.2,
             "#de77ae"
            ],
            [
             0.3,
             "#f1b6da"
            ],
            [
             0.4,
             "#fde0ef"
            ],
            [
             0.5,
             "#f7f7f7"
            ],
            [
             0.6,
             "#e6f5d0"
            ],
            [
             0.7,
             "#b8e186"
            ],
            [
             0.8,
             "#7fbc41"
            ],
            [
             0.9,
             "#4d9221"
            ],
            [
             1,
             "#276419"
            ]
           ],
           "sequential": [
            [
             0,
             "#0d0887"
            ],
            [
             0.1111111111111111,
             "#46039f"
            ],
            [
             0.2222222222222222,
             "#7201a8"
            ],
            [
             0.3333333333333333,
             "#9c179e"
            ],
            [
             0.4444444444444444,
             "#bd3786"
            ],
            [
             0.5555555555555556,
             "#d8576b"
            ],
            [
             0.6666666666666666,
             "#ed7953"
            ],
            [
             0.7777777777777778,
             "#fb9f3a"
            ],
            [
             0.8888888888888888,
             "#fdca26"
            ],
            [
             1,
             "#f0f921"
            ]
           ],
           "sequentialminus": [
            [
             0,
             "#0d0887"
            ],
            [
             0.1111111111111111,
             "#46039f"
            ],
            [
             0.2222222222222222,
             "#7201a8"
            ],
            [
             0.3333333333333333,
             "#9c179e"
            ],
            [
             0.4444444444444444,
             "#bd3786"
            ],
            [
             0.5555555555555556,
             "#d8576b"
            ],
            [
             0.6666666666666666,
             "#ed7953"
            ],
            [
             0.7777777777777778,
             "#fb9f3a"
            ],
            [
             0.8888888888888888,
             "#fdca26"
            ],
            [
             1,
             "#f0f921"
            ]
           ]
          },
          "colorway": [
           "#636efa",
           "#EF553B",
           "#00cc96",
           "#ab63fa",
           "#FFA15A",
           "#19d3f3",
           "#FF6692",
           "#B6E880",
           "#FF97FF",
           "#FECB52"
          ],
          "font": {
           "color": "#2a3f5f"
          },
          "geo": {
           "bgcolor": "white",
           "lakecolor": "white",
           "landcolor": "#E5ECF6",
           "showlakes": true,
           "showland": true,
           "subunitcolor": "white"
          },
          "hoverlabel": {
           "align": "left"
          },
          "hovermode": "closest",
          "mapbox": {
           "style": "light"
          },
          "paper_bgcolor": "white",
          "plot_bgcolor": "#E5ECF6",
          "polar": {
           "angularaxis": {
            "gridcolor": "white",
            "linecolor": "white",
            "ticks": ""
           },
           "bgcolor": "#E5ECF6",
           "radialaxis": {
            "gridcolor": "white",
            "linecolor": "white",
            "ticks": ""
           }
          },
          "scene": {
           "xaxis": {
            "backgroundcolor": "#E5ECF6",
            "gridcolor": "white",
            "gridwidth": 2,
            "linecolor": "white",
            "showbackground": true,
            "ticks": "",
            "zerolinecolor": "white"
           },
           "yaxis": {
            "backgroundcolor": "#E5ECF6",
            "gridcolor": "white",
            "gridwidth": 2,
            "linecolor": "white",
            "showbackground": true,
            "ticks": "",
            "zerolinecolor": "white"
           },
           "zaxis": {
            "backgroundcolor": "#E5ECF6",
            "gridcolor": "white",
            "gridwidth": 2,
            "linecolor": "white",
            "showbackground": true,
            "ticks": "",
            "zerolinecolor": "white"
           }
          },
          "shapedefaults": {
           "line": {
            "color": "#2a3f5f"
           }
          },
          "ternary": {
           "aaxis": {
            "gridcolor": "white",
            "linecolor": "white",
            "ticks": ""
           },
           "baxis": {
            "gridcolor": "white",
            "linecolor": "white",
            "ticks": ""
           },
           "bgcolor": "#E5ECF6",
           "caxis": {
            "gridcolor": "white",
            "linecolor": "white",
            "ticks": ""
           }
          },
          "title": {
           "x": 0.05
          },
          "xaxis": {
           "automargin": true,
           "gridcolor": "white",
           "linecolor": "white",
           "ticks": "",
           "title": {
            "standoff": 15
           },
           "zerolinecolor": "white",
           "zerolinewidth": 2
          },
          "yaxis": {
           "automargin": true,
           "gridcolor": "white",
           "linecolor": "white",
           "ticks": "",
           "title": {
            "standoff": 15
           },
           "zerolinecolor": "white",
           "zerolinewidth": 2
          }
         }
        }
       }
      },
      "image/png": "[encoded data removed]",
      "text/html": [
       "<div>                            <div id=\"0b30fbc9-f9fb-4317-bdcb-bf477c99d00e\" class=\"plotly-graph-div\" style=\"height:525px; width:100%;\"></div>            <script type=\"text/javascript\">                require([\"plotly\"], function(Plotly) {                    window.PLOTLYENV=window.PLOTLYENV || {};                                    if (document.getElementById(\"0b30fbc9-f9fb-4317-bdcb-bf477c99d00e\")) {                    Plotly.newPlot(                        \"0b30fbc9-f9fb-4317-bdcb-bf477c99d00e\",                        [{\"hovertemplate\":\"<b>%{hovertext}</b><br><br>city=Bormes les Mimosas<br>lat_x=%{lat}<br>long_x=%{lon}<extra></extra>\",\"hovertext\":[\"Coeur de village\",\"Auberge du dom\",\"H\\u00f4tel Paradis\",\"Hostellerie du Cigalou - Les Collectionneurs\",\"SELECT'SO HOME - R\\u00e9sidence Le Bella Vista - Piscine sur le toit et vue panoramique - Prestations de qualit\\u00e9 & Services H\\u00f4teliers - BV04B\",\"L'appart Isa&Marc T2 avec rez-de-jardin (bus a\\u00e9roport) tout \\u00e9quip\\u00e9 pour 4 personnes;\",\"Studio clim wifi centre historique de Bormes les Mimosas\",\"La petite Provence\",\"Hotel La Voile\",\"Studio Bormes-les-Mimosas, 1 pi\\u00e8ce, 3 personnes - FR-1-677-4\",\"Les deux mas\",\"FACE MER ENTRE PLAGE ET MARINA\",\"Boulevard du Soleil\",\"T2 BORMES LES MIMOSAS, La Faviere \\u00e0 5 mn \\u00e0 pieds de la plage\",\"Mer et soleil\",\"Superbe Duplex 35m2 vue mer avec piscine\",\"Studio avec Jardin et Parking Priv\\u00e9s\",\"Asklan\",\"Appartement Bord de Mer La Faviere\",\"HomeStay Bormes\"],\"lat\":[43.150077,43.19686,43.144686,43.1519579,43.123106,43.14450993,43.15036057,43.15127099,43.12549,43.1237521,43.14393659,43.12212055,43.14923281,43.1238127,43.12559147,43.1431217,43.1403633,43.12264843,43.12602594,43.146445],\"legendgroup\":\"Bormes les Mimosas\",\"lon\":[6.342641,6.3870056,6.335125,6.3432835,6.354528,6.33768565,6.34262603,6.34190677,6.3573,6.3518625,6.33632324,6.36269069,6.34197015,6.3581327,6.35555415,6.3521398,6.3367149,6.35946596,6.35675467,6.327724],\"marker\":{\"color\":\"#636efa\",\"size\":5},\"mode\":\"markers\",\"name\":\"Bormes les Mimosas\",\"showlegend\":true,\"subplot\":\"mapbox\",\"type\":\"scattermapbox\"},{\"hovertemplate\":\"<b>%{hovertext}</b><br><br>city=Collioure<br>lat_x=%{lat}<br>long_x=%{lon}<extra></extra>\",\"hovertext\":[\"Studio Centre Plage parking gratuit\",\"Maison de vacances Faubourg - 6LAM16\",\"BEL APPARTEMENT 4Pers RDC/parking/terrasse/ jardin\",\"SAPHIR - Superbe T2 Vue Mer et Montagne avec PISCINE et GARAGE PRIVE\",\"6AMB38-Villa avec terrasse dans r\\u00e9sidence avec piscine commune\",\"Au coeur de Collioure\",\"Le Madeloc H\\u00f4tel & Spa\",\"Villa 6 personnes dans r\\u00e9sidence 6CHK4\",\"Hotel M\\u00e9diterran\\u00e9e\",\"R\\u00e9sidence du Soleil\",\"Appartement Sous le Soleil\",\"Mas de la Croette Collioure\",\"H\\u00f4tel Triton\",\"H\\u00f4tel La Casa Pairal\",\"Les Suites de Collioure\",\"Le Mas des Citronniers\",\"Les Roches Brunes\",\"Appartement r\\u00e9sidence Soleil Marin 4SOM23\",\"Les Pieds dans l'Eau\",\"La Fr\\u00e9gate\"],\"lat\":[42.52298768,42.523699,42.52836258,42.52685322,42.524704,42.5273935,42.52876467,42.526207,42.52708254,42.52311754,42.5271222,42.5217335,42.52371617,42.52616733,42.52439,42.52538159,42.52534777,42.52237104,42.52716324,42.52638625],\"legendgroup\":\"Collioure\",\"lon\":[3.08732966,3.082707,3.07816333,3.07479878,3.078535,3.0847579,3.07865426,3.075367,3.08026291,3.0854253,3.0765161,3.0728738,3.08713473,3.08235571,3.082726,3.08256391,3.09032446,3.08109576,3.0850151,3.08325659],\"marker\":{\"color\":\"#EF553B\",\"size\":5},\"mode\":\"markers\",\"name\":\"Collioure\",\"showlegend\":true,\"subplot\":\"mapbox\",\"type\":\"scattermapbox\"},{\"hovertemplate\":\"<b>%{hovertext}</b><br><br>city=Cassis<br>lat_x=%{lat}<br>long_x=%{lon}<extra></extra>\",\"hovertext\":[\"AZUR - Vue mer - Parking - Climatisation\",\"TERRE MARINE - Bel appartement avec terrasse vue mer\",\"Le Duplex\",\"L'Oustau par Dodo \\u00e0 Cassis\",\"Home Cassis - Maison Julou - Piscine chauff\\u00e9e\",\"HORIZON BLEU Vue Mer\",\"CALANQUE D'EN VAU\",\"La douceur de Cassis\",\"MISTRAL Gagnant\",\"Le chemin de belle fille\",\"SunRise Cassis\",\"HPC Suites\",\"SunSet Cassis\",\"Cassis Ma Vie L\\u00e0\",\"appartement cosy \\u00e0 10 m\\u00e8tres du port de Cassis\",\"appartement du p\\u00eacheur \\u00e0 Cassis \\u00e0 10 m\\u00e8tres du port\",\"Plage & Calanques Cassis\",\"Bright flat classified with 2 in the centre of Cassis - Welkeys\",\"UNE TERRASSE SUR LA MER 3 pers 2 chambres VUE MER\",\"Superb bright flat with balcony and sea view in Cassis - Welkeys\"],\"lat\":[43.2194543,43.2169655,43.21505477,43.21351619,43.22207969,43.21499337,43.21459857,43.215009,43.21537,43.21641033,43.21521908,43.21644024,43.215456,43.216905,43.21533507,43.21534046,43.2120018,43.2143771,43.21407197,43.21495674],\"legendgroup\":\"Cassis\",\"lon\":[5.5414116,5.5295811,5.54057326,5.5432609,5.53792695,5.53584943,5.53784404,5.530956,5.53719,5.55070017,5.53568187,5.54174572,5.535734,5.541446,5.53686093,5.5368582,5.5276305,5.5377803,5.53062182,5.5357946],\"marker\":{\"color\":\"#00cc96\",\"size\":5},\"mode\":\"markers\",\"name\":\"Cassis\",\"showlegend\":true,\"subplot\":\"mapbox\",\"type\":\"scattermapbox\"},{\"hovertemplate\":\"<b>%{hovertext}</b><br><br>city=Marseille<br>lat_x=%{lat}<br>long_x=%{lon}<extra></extra>\",\"hovertext\":[\"BLUE BAY - superbe vue sur le Vieux Port\",\"T2 \\u00e9quip\\u00e9 au calme + Terrasse \\u00e0 1 km de la Mer\",\"Le Loft Saint Sa\\u00ebns\",\"PREMIERE LIGNE - Bel appartement en 1\\u00e8re ligne du Vieux e\",\"Les Petits Pavillons - MaisonMars\",\"LE COSY BEACH\",\"Les Appartements du Vieux Port\",\"Studio chaleureux au Panier - Tout confort pour 2 personnes\",\"Marseille: Superbe vue sur Notre-Dame de la Garde\",\"Balcon Filant, Vue 180, Store, Netflix, Clim ,Ascenseur, T2\",\"THE BUILDING - Appartement d'architecte avec vue Notre Dame de la Garde\",\"Mini Loft au coeur du Panier - Marseille\",\"STUDIO ** ROOFTOP ** LULLI\",\"Le Flammarion  Haut Standing  Wifi-Netflix-Clim\",\"Le Leca - Appartement 2 chambres parking\",\"CMG - Marseille / Op\\u00e9ra\",\"T3 ** BALCON ** VIEUX PORT ** CENTRE\",\"Appartement Haussmannien rue pi\\u00e9tonne Op\\u00e9ra\",\"Superb 1 bedroom flat 1min walk to the Old Port\",\"La Pitcholine : Superbe studio au Vieux-Port\"],\"lat\":[43.2971913,43.2819397,43.2932912,43.29643359,43.2953257,43.2825572,43.2951169,43.2985385,43.28344714,43.2950935,43.2974929,43.29846177,43.2923699,43.30585573,43.3022498,43.293005,43.294267,43.2928242,43.2935505,43.2921892],\"legendgroup\":\"Marseille\",\"lon\":[5.3640876,5.3651066,5.3738254,5.37142705,5.3771871,5.4075679,5.3761663,5.3666662,5.38683235,5.37537445,5.3803301,5.36742433,5.3761148,5.39270165,5.3659113,5.3768201,5.3767997,5.3778628,5.3745805,5.3700136],\"marker\":{\"color\":\"#ab63fa\",\"size\":5},\"mode\":\"markers\",\"name\":\"Marseille\",\"showlegend\":true,\"subplot\":\"mapbox\",\"type\":\"scattermapbox\"},{\"hovertemplate\":\"<b>%{hovertext}</b><br><br>city=Bayonne<br>lat_x=%{lat}<br>long_x=%{lon}<extra></extra>\",\"hovertext\":[\"Bayonne en plein c\\u0153ur Centre Historique 2 chambres\",\"Appartement r\\u00e9sidence neuve\",\"Euskal etxea\",\"T3 avec sa terrasse ensoleill\\u00e9e\",\"Hotel Restaurant Les Genets\",\"jeu de paume\",\"L'\\u00e2me Nomade - Bayonne Centre\",\"ibis budget Bayonne\",\"23 Avenue du 8 Mai 1945\",\"P\\u00e9niche DJEBELLE\",\"Hostel 20 Bayonne\",\"Le Petit Nid Douillet de J\\u00e9j\\u00e9\",\"Boutique H\\u00f4tel Un Appart en Ville\",\"Appart'H\\u00f4tel Bellevue\",\"Parc 709 Bayonne\",\"Hotel Loreak\",\"Maison d'h\\u00f4tes City Break MIRADOUR\",\"H\\u00f4tel Villa KOEGUI Bayonne\",\"Hotel Cote Basque\",\"Villa la Renaissance\"],\"lat\":[43.4890699,43.5057686,43.4872203,43.50708131,43.46494896,43.4898477,43.49787499,43.48908262,43.4728192,43.496335,43.49535,43.49405931,43.4909225,43.50579423,43.495606,43.49349109,43.489513,43.492371,43.49618306,43.482321],\"legendgroup\":\"Bayonne\",\"lon\":[-1.4755226,-1.4596692,-1.4658403,-1.47534745,-1.49584383,-1.4718019,-1.48486985,-1.45717809,-1.4858856,-1.473749,-1.468753,-1.4682464,-1.4774412,-1.45608832,-1.481317,-1.45263344,-1.479078,-1.472588,-1.46960109,-1.468164],\"marker\":{\"color\":\"#FFA15A\",\"size\":5},\"mode\":\"markers\",\"name\":\"Bayonne\",\"showlegend\":true,\"subplot\":\"mapbox\",\"type\":\"scattermapbox\"}],                        {\"template\":{\"data\":{\"bar\":[{\"error_x\":{\"color\":\"#2a3f5f\"},\"error_y\":{\"color\":\"#2a3f5f\"},\"marker\":{\"line\":{\"color\":\"#E5ECF6\",\"width\":0.5},\"pattern\":{\"fillmode\":\"overlay\",\"size\":10,\"solidity\":0.2}},\"type\":\"bar\"}],\"barpolar\":[{\"marker\":{\"line\":{\"color\":\"#E5ECF6\",\"width\":0.5},\"pattern\":{\"fillmode\":\"overlay\",\"size\":10,\"solidity\":0.2}},\"type\":\"barpolar\"}],\"carpet\":[{\"aaxis\":{\"endlinecolor\":\"#2a3f5f\",\"gridcolor\":\"white\",\"linecolor\":\"white\",\"minorgridcolor\":\"white\",\"startlinecolor\":\"#2a3f5f\"},\"baxis\":{\"endlinecolor\":\"#2a3f5f\",\"gridcolor\":\"white\",\"linecolor\":\"white\",\"minorgridcolor\":\"white\",\"startlinecolor\":\"#2a3f5f\"},\"type\":\"carpet\"}],\"choropleth\":[{\"colorbar\":{\"outlinewidth\":0,\"ticks\":\"\"},\"type\":\"choropleth\"}],\"contour\":[{\"colorbar\":{\"outlinewidth\":0,\"ticks\":\"\"},\"colorscale\":[[0.0,\"#0d0887\"],[0.1111111111111111,\"#46039f\"],[0.2222222222222222,\"#7201a8\"],[0.3333333333333333,\"#9c179e\"],[0.4444444444444444,\"#bd3786\"],[0.5555555555555556,\"#d8576b\"],[0.6666666666666666,\"#ed7953\"],[0.7777777777777778,\"#fb9f3a\"],[0.8888888888888888,\"#fdca26\"],[1.0,\"#f0f921\"]],\"type\":\"contour\"}],\"contourcarpet\":[{\"colorbar\":{\"outlinewidth\":0,\"ticks\":\"\"},\"type\":\"contourcarpet\"}],\"heatmap\":[{\"colorbar\":{\"outlinewidth\":0,\"ticks\":\"\"},\"colorscale\":[[0.0,\"#0d0887\"],[0.1111111111111111,\"#46039f\"],[0.2222222222222222,\"#7201a8\"],[0.3333333333333333,\"#9c179e\"],[0.4444444444444444,\"#bd3786\"],[0.5555555555555556,\"#d8576b\"],[0.6666666666666666,\"#ed7953\"],[0.7777777777777778,\"#fb9f3a\"],[0.8888888888888888,\"#fdca26\"],[1.0,\"#f0f921\"]],\"type\":\"heatmap\"}],\"heatmapgl\":[{\"colorbar\":{\"outlinewidth\":0,\"ticks\":\"\"},\"colorscale\":[[0.0,\"#0d0887\"],[0.1111111111111111,\"#46039f\"],[0.2222222222222222,\"#7201a8\"],[0.3333333333333333,\"#9c179e\"],[0.4444444444444444,\"#bd3786\"],[0.5555555555555556,\"#d8576b\"],[0.6666666666666666,\"#ed7953\"],[0.7777777777777778,\"#fb9f3a\"],[0.8888888888888888,\"#fdca26\"],[1.0,\"#f0f921\"]],\"type\":\"heatmapgl\"}],\"histogram\":[{\"marker\":{\"pattern\":{\"fillmode\":\"overlay\",\"size\":10,\"solidity\":0.2}},\"type\":\"histogram\"}],\"histogram2d\":[{\"colorbar\":{\"outlinewidth\":0,\"ticks\":\"\"},\"colorscale\":[[0.0,\"#0d0887\"],[0.1111111111111111,\"#46039f\"],[0.2222222222222222,\"#7201a8\"],[0.3333333333333333,\"#9c179e\"],[0.4444444444444444,\"#bd3786\"],[0.5555555555555556,\"#d8576b\"],[0.6666666666666666,\"#ed7953\"],[0.7777777777777778,\"#fb9f3a\"],[0.8888888888888888,\"#fdca26\"],[1.0,\"#f0f921\"]],\"type\":\"histogram2d\"}],\"histogram2dcontour\":[{\"colorbar\":{\"outlinewidth\":0,\"ticks\":\"\"},\"colorscale\":[[0.0,\"#0d0887\"],[0.1111111111111111,\"#46039f\"],[0.2222222222222222,\"#7201a8\"],[0.3333333333333333,\"#9c179e\"],[0.4444444444444444,\"#bd3786\"],[0.5555555555555556,\"#d8576b\"],[0.6666666666666666,\"#ed7953\"],[0.7777777777777778,\"#fb9f3a\"],[0.8888888888888888,\"#fdca26\"],[1.0,\"#f0f921\"]],\"type\":\"histogram2dcontour\"}],\"mesh3d\":[{\"colorbar\":{\"outlinewidth\":0,\"ticks\":\"\"},\"type\":\"mesh3d\"}],\"parcoords\":[{\"line\":{\"colorbar\":{\"outlinewidth\":0,\"ticks\":\"\"}},\"type\":\"parcoords\"}],\"pie\":[{\"automargin\":true,\"type\":\"pie\"}],\"scatter\":[{\"marker\":{\"colorbar\":{\"outlinewidth\":0,\"ticks\":\"\"}},\"type\":\"scatter\"}],\"scatter3d\":[{\"line\":{\"colorbar\":{\"outlinewidth\":0,\"ticks\":\"\"}},\"marker\":{\"colorbar\":{\"outlinewidth\":0,\"ticks\":\"\"}},\"type\":\"scatter3d\"}],\"scattercarpet\":[{\"marker\":{\"colorbar\":{\"outlinewidth\":0,\"ticks\":\"\"}},\"type\":\"scattercarpet\"}],\"scattergeo\":[{\"marker\":{\"colorbar\":{\"outlinewidth\":0,\"ticks\":\"\"}},\"type\":\"scattergeo\"}],\"scattergl\":[{\"marker\":{\"colorbar\":{\"outlinewidth\":0,\"ticks\":\"\"}},\"type\":\"scattergl\"}],\"scattermapbox\":[{\"marker\":{\"colorbar\":{\"outlinewidth\":0,\"ticks\":\"\"}},\"type\":\"scattermapbox\"}],\"scatterpolar\":[{\"marker\":{\"colorbar\":{\"outlinewidth\":0,\"ticks\":\"\"}},\"type\":\"scatterpolar\"}],\"scatterpolargl\":[{\"marker\":{\"colorbar\":{\"outlinewidth\":0,\"ticks\":\"\"}},\"type\":\"scatterpolargl\"}],\"scatterternary\":[{\"marker\":{\"colorbar\":{\"outlinewidth\":0,\"ticks\":\"\"}},\"type\":\"scatterternary\"}],\"surface\":[{\"colorbar\":{\"outlinewidth\":0,\"ticks\":\"\"},\"colorscale\":[[0.0,\"#0d0887\"],[0.1111111111111111,\"#46039f\"],[0.2222222222222222,\"#7201a8\"],[0.3333333333333333,\"#9c179e\"],[0.4444444444444444,\"#bd3786\"],[0.5555555555555556,\"#d8576b\"],[0.6666666666666666,\"#ed7953\"],[0.7777777777777778,\"#fb9f3a\"],[0.8888888888888888,\"#fdca26\"],[1.0,\"#f0f921\"]],\"type\":\"surface\"}],\"table\":[{\"cells\":{\"fill\":{\"color\":\"#EBF0F8\"},\"line\":{\"color\":\"white\"}},\"header\":{\"fill\":{\"color\":\"#C8D4E3\"},\"line\":{\"color\":\"white\"}},\"type\":\"table\"}]},\"layout\":{\"annotationdefaults\":{\"arrowcolor\":\"#2a3f5f\",\"arrowhead\":0,\"arrowwidth\":1},\"autotypenumbers\":\"strict\",\"coloraxis\":{\"colorbar\":{\"outlinewidth\":0,\"ticks\":\"\"}},\"colorscale\":{\"diverging\":[[0,\"#8e0152\"],[0.1,\"#c51b7d\"],[0.2,\"#de77ae\"],[0.3,\"#f1b6da\"],[0.4,\"#fde0ef\"],[0.5,\"#f7f7f7\"],[0.6,\"#e6f5d0\"],[0.7,\"#b8e186\"],[0.8,\"#7fbc41\"],[0.9,\"#4d9221\"],[1,\"#276419\"]],\"sequential\":[[0.0,\"#0d0887\"],[0.1111111111111111,\"#46039f\"],[0.2222222222222222,\"#7201a8\"],[0.3333333333333333,\"#9c179e\"],[0.4444444444444444,\"#bd3786\"],[0.5555555555555556,\"#d8576b\"],[0.6666666666666666,\"#ed7953\"],[0.7777777777777778,\"#fb9f3a\"],[0.8888888888888888,\"#fdca26\"],[1.0,\"#f0f921\"]],\"sequentialminus\":[[0.0,\"#0d0887\"],[0.1111111111111111,\"#46039f\"],[0.2222222222222222,\"#7201a8\"],[0.3333333333333333,\"#9c179e\"],[0.4444444444444444,\"#bd3786\"],[0.5555555555555556,\"#d8576b\"],[0.6666666666666666,\"#ed7953\"],[0.7777777777777778,\"#fb9f3a\"],[0.8888888888888888,\"#fdca26\"],[1.0,\"#f0f921\"]]},\"colorway\":[\"#636efa\",\"#EF553B\",\"#00cc96\",\"#ab63fa\",\"#FFA15A\",\"#19d3f3\",\"#FF6692\",\"#B6E880\",\"#FF97FF\",\"#FECB52\"],\"font\":{\"color\":\"#2a3f5f\"},\"geo\":{\"bgcolor\":\"white\",\"lakecolor\":\"white\",\"landcolor\":\"#E5ECF6\",\"showlakes\":true,\"showland\":true,\"subunitcolor\":\"white\"},\"hoverlabel\":{\"align\":\"left\"},\"hovermode\":\"closest\",\"mapbox\":{\"style\":\"light\"},\"paper_bgcolor\":\"white\",\"plot_bgcolor\":\"#E5ECF6\",\"polar\":{\"angularaxis\":{\"gridcolor\":\"white\",\"linecolor\":\"white\",\"ticks\":\"\"},\"bgcolor\":\"#E5ECF6\",\"radialaxis\":{\"gridcolor\":\"white\",\"linecolor\":\"white\",\"ticks\":\"\"}},\"scene\":{\"xaxis\":{\"backgroundcolor\":\"#E5ECF6\",\"gridcolor\":\"white\",\"gridwidth\":2,\"linecolor\":\"white\",\"showbackground\":true,\"ticks\":\"\",\"zerolinecolor\":\"white\"},\"yaxis\":{\"backgroundcolor\":\"#E5ECF6\",\"gridcolor\":\"white\",\"gridwidth\":2,\"linecolor\":\"white\",\"showbackground\":true,\"ticks\":\"\",\"zerolinecolor\":\"white\"},\"zaxis\":{\"backgroundcolor\":\"#E5ECF6\",\"gridcolor\":\"white\",\"gridwidth\":2,\"linecolor\":\"white\",\"showbackground\":true,\"ticks\":\"\",\"zerolinecolor\":\"white\"}},\"shapedefaults\":{\"line\":{\"color\":\"#2a3f5f\"}},\"ternary\":{\"aaxis\":{\"gridcolor\":\"white\",\"linecolor\":\"white\",\"ticks\":\"\"},\"baxis\":{\"gridcolor\":\"white\",\"linecolor\":\"white\",\"ticks\":\"\"},\"bgcolor\":\"#E5ECF6\",\"caxis\":{\"gridcolor\":\"white\",\"linecolor\":\"white\",\"ticks\":\"\"}},\"title\":{\"x\":0.05},\"xaxis\":{\"automargin\":true,\"gridcolor\":\"white\",\"linecolor\":\"white\",\"ticks\":\"\",\"title\":{\"standoff\":15},\"zerolinecolor\":\"white\",\"zerolinewidth\":2},\"yaxis\":{\"automargin\":true,\"gridcolor\":\"white\",\"linecolor\":\"white\",\"ticks\":\"\",\"title\":{\"standoff\":15},\"zerolinecolor\":\"white\",\"zerolinewidth\":2}}},\"mapbox\":{\"domain\":{\"x\":[0.0,1.0],\"y\":[0.0,1.0]},\"center\":{\"lat\":43.13344735480001,\"lon\":3.7743992655999987},\"zoom\":5,\"style\":\"carto-positron\"},\"legend\":{\"title\":{\"text\":\"city\"},\"tracegroupgap\":0},\"margin\":{\"t\":60}},                        {\"responsive\": true}                    ).then(function(){\n",
       "                            \n",
       "var gd = document.getElementById('0b30fbc9-f9fb-4317-bdcb-bf477c99d00e');\n",
       "var x = new MutationObserver(function (mutations, observer) {{\n",
       "        var display = window.getComputedStyle(gd).display;\n",
       "        if (!display || display === 'none') {{\n",
       "            console.log([gd, 'removed!']);\n",
       "            Plotly.purge(gd);\n",
       "            observer.disconnect();\n",
       "        }}\n",
       "}});\n",
       "\n",
       "// Listen for the removal of the full notebook cells\n",
       "var notebookContainer = gd.closest('#notebook-container');\n",
       "if (notebookContainer) {{\n",
       "    x.observe(notebookContainer, {childList: true});\n",
       "}}\n",
       "\n",
       "// Listen for the clearing of the current output cell\n",
       "var outputEl = gd.closest('.output');\n",
       "if (outputEl) {{\n",
       "    x.observe(outputEl, {childList: true});\n",
       "}}\n",
       "\n",
       "                        })                };                });            </script>        </div>"
      ]
     },
     "metadata": {},
     "output_type": "display_data"
    }
   ],
   "source": [
    "fig = px.scatter_mapbox(\n",
    "        hotels, \n",
    "        lat=\"lat_x\", \n",
    "        lon=\"long_x\",\n",
    "        mapbox_style=\"carto-positron\",\n",
    "        zoom=5,\n",
    "        hover_name='name',\n",
    "    color='city'\n",
    ")\n",
    "fig.update_traces(marker={'size' : 5})\n",
    "\n",
    "fig.show()"
   ]
  },
  {
   "cell_type": "code",
   "execution_count": null,
   "id": "e33962bf-f2d8-4f77-99dd-ed13f98b80b9",
   "metadata": {},
   "outputs": [],
   "source": []
  }
 ],
 "metadata": {
  "kernelspec": {
   "display_name": "Python 3 (ipykernel)",
   "language": "python",
   "name": "python3"
  },
  "language_info": {
   "codemirror_mode": {
    "name": "ipython",
    "version": 3
   },
   "file_extension": ".py",
   "mimetype": "text/x-python",
   "name": "python",
   "nbconvert_exporter": "python",
   "pygments_lexer": "ipython3",
   "version": "3.9.7"
  }
 },
 "nbformat": 4,
 "nbformat_minor": 5
}
